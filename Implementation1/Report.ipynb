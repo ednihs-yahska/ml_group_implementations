{
 "cells": [
  {
   "cell_type": "markdown",
   "metadata": {},
   "source": [
    "# Implementation Assignment 1 by Akshay Shinde `933589936`, Parijat Bhatt `933619125`, Uday Phalak `933232441`\n",
    "`Equal participation by all team mates`"
   ]
  },
  {
   "cell_type": "markdown",
   "metadata": {},
   "source": [
    "# setup"
   ]
  },
  {
   "cell_type": "code",
   "execution_count": 155,
   "metadata": {},
   "outputs": [],
   "source": [
    "#setting up packages\n",
    "import pandas as pd\n",
    "import numpy as np\n",
    "import math\n",
    "import matplotlib.pyplot as plt\n",
    "import random\n",
    "import seaborn as sns\n",
    "%matplotlib inline\n",
    "plt.rcParams[\"figure.figsize\"] = [20,10]\n",
    "train_data_source = \"PA1_train.csv.xls\"\n",
    "validation_data_source = \"PA1_dev.csv.xls\"\n",
    "test_data_source = \"PA1_test.csv.xls\""
   ]
  },
  {
   "cell_type": "code",
   "execution_count": 156,
   "metadata": {},
   "outputs": [
    {
     "data": {
      "text/html": [
       "<div>\n",
       "<style scoped>\n",
       "    .dataframe tbody tr th:only-of-type {\n",
       "        vertical-align: middle;\n",
       "    }\n",
       "\n",
       "    .dataframe tbody tr th {\n",
       "        vertical-align: top;\n",
       "    }\n",
       "\n",
       "    .dataframe thead th {\n",
       "        text-align: right;\n",
       "    }\n",
       "</style>\n",
       "<table border=\"1\" class=\"dataframe\">\n",
       "  <thead>\n",
       "    <tr style=\"text-align: right;\">\n",
       "      <th></th>\n",
       "      <th>dummy</th>\n",
       "      <th>id</th>\n",
       "      <th>date</th>\n",
       "      <th>bedrooms</th>\n",
       "      <th>bathrooms</th>\n",
       "      <th>sqft_living</th>\n",
       "      <th>sqft_lot</th>\n",
       "      <th>floors</th>\n",
       "      <th>waterfront</th>\n",
       "      <th>view</th>\n",
       "      <th>...</th>\n",
       "      <th>sqft_above</th>\n",
       "      <th>sqft_basement</th>\n",
       "      <th>yr_built</th>\n",
       "      <th>yr_renovated</th>\n",
       "      <th>zipcode</th>\n",
       "      <th>lat</th>\n",
       "      <th>long</th>\n",
       "      <th>sqft_living15</th>\n",
       "      <th>sqft_lot15</th>\n",
       "      <th>price</th>\n",
       "    </tr>\n",
       "  </thead>\n",
       "  <tbody>\n",
       "    <tr>\n",
       "      <th>488</th>\n",
       "      <td>1</td>\n",
       "      <td>240000031</td>\n",
       "      <td>3/13/2015</td>\n",
       "      <td>4</td>\n",
       "      <td>2.25</td>\n",
       "      <td>1940</td>\n",
       "      <td>10200</td>\n",
       "      <td>1.0</td>\n",
       "      <td>0</td>\n",
       "      <td>0</td>\n",
       "      <td>...</td>\n",
       "      <td>1360</td>\n",
       "      <td>580</td>\n",
       "      <td>1960</td>\n",
       "      <td>0</td>\n",
       "      <td>98188</td>\n",
       "      <td>47.4253</td>\n",
       "      <td>-122.283</td>\n",
       "      <td>1940</td>\n",
       "      <td>10200</td>\n",
       "      <td>3.220</td>\n",
       "    </tr>\n",
       "    <tr>\n",
       "      <th>1479</th>\n",
       "      <td>1</td>\n",
       "      <td>3905010100</td>\n",
       "      <td>6/15/2014</td>\n",
       "      <td>4</td>\n",
       "      <td>2.50</td>\n",
       "      <td>2700</td>\n",
       "      <td>9122</td>\n",
       "      <td>2.0</td>\n",
       "      <td>0</td>\n",
       "      <td>0</td>\n",
       "      <td>...</td>\n",
       "      <td>2700</td>\n",
       "      <td>0</td>\n",
       "      <td>1990</td>\n",
       "      <td>0</td>\n",
       "      <td>98029</td>\n",
       "      <td>47.5771</td>\n",
       "      <td>-121.994</td>\n",
       "      <td>2500</td>\n",
       "      <td>9122</td>\n",
       "      <td>6.525</td>\n",
       "    </tr>\n",
       "    <tr>\n",
       "      <th>6210</th>\n",
       "      <td>1</td>\n",
       "      <td>7504010780</td>\n",
       "      <td>12/26/2014</td>\n",
       "      <td>4</td>\n",
       "      <td>2.25</td>\n",
       "      <td>2260</td>\n",
       "      <td>11900</td>\n",
       "      <td>2.0</td>\n",
       "      <td>0</td>\n",
       "      <td>0</td>\n",
       "      <td>...</td>\n",
       "      <td>2260</td>\n",
       "      <td>0</td>\n",
       "      <td>1976</td>\n",
       "      <td>0</td>\n",
       "      <td>98074</td>\n",
       "      <td>47.6415</td>\n",
       "      <td>-122.057</td>\n",
       "      <td>2470</td>\n",
       "      <td>11900</td>\n",
       "      <td>6.050</td>\n",
       "    </tr>\n",
       "    <tr>\n",
       "      <th>5941</th>\n",
       "      <td>1</td>\n",
       "      <td>9476700135</td>\n",
       "      <td>3/19/2015</td>\n",
       "      <td>3</td>\n",
       "      <td>1.75</td>\n",
       "      <td>1500</td>\n",
       "      <td>8352</td>\n",
       "      <td>1.0</td>\n",
       "      <td>0</td>\n",
       "      <td>2</td>\n",
       "      <td>...</td>\n",
       "      <td>750</td>\n",
       "      <td>750</td>\n",
       "      <td>1943</td>\n",
       "      <td>0</td>\n",
       "      <td>98056</td>\n",
       "      <td>47.4883</td>\n",
       "      <td>-122.191</td>\n",
       "      <td>1500</td>\n",
       "      <td>8447</td>\n",
       "      <td>3.000</td>\n",
       "    </tr>\n",
       "    <tr>\n",
       "      <th>2389</th>\n",
       "      <td>1</td>\n",
       "      <td>2856100250</td>\n",
       "      <td>11/6/2014</td>\n",
       "      <td>4</td>\n",
       "      <td>2.50</td>\n",
       "      <td>2470</td>\n",
       "      <td>2550</td>\n",
       "      <td>3.0</td>\n",
       "      <td>0</td>\n",
       "      <td>0</td>\n",
       "      <td>...</td>\n",
       "      <td>2470</td>\n",
       "      <td>0</td>\n",
       "      <td>2004</td>\n",
       "      <td>0</td>\n",
       "      <td>98117</td>\n",
       "      <td>47.6765</td>\n",
       "      <td>-122.389</td>\n",
       "      <td>1270</td>\n",
       "      <td>3060</td>\n",
       "      <td>7.350</td>\n",
       "    </tr>\n",
       "  </tbody>\n",
       "</table>\n",
       "<p>5 rows × 22 columns</p>\n",
       "</div>"
      ],
      "text/plain": [
       "      dummy          id        date  bedrooms  bathrooms  sqft_living  \\\n",
       "488       1   240000031   3/13/2015         4       2.25         1940   \n",
       "1479      1  3905010100   6/15/2014         4       2.50         2700   \n",
       "6210      1  7504010780  12/26/2014         4       2.25         2260   \n",
       "5941      1  9476700135   3/19/2015         3       1.75         1500   \n",
       "2389      1  2856100250   11/6/2014         4       2.50         2470   \n",
       "\n",
       "      sqft_lot  floors  waterfront  view  ...    sqft_above  sqft_basement  \\\n",
       "488      10200     1.0           0     0  ...          1360            580   \n",
       "1479      9122     2.0           0     0  ...          2700              0   \n",
       "6210     11900     2.0           0     0  ...          2260              0   \n",
       "5941      8352     1.0           0     2  ...           750            750   \n",
       "2389      2550     3.0           0     0  ...          2470              0   \n",
       "\n",
       "      yr_built  yr_renovated  zipcode      lat     long  sqft_living15  \\\n",
       "488       1960             0    98188  47.4253 -122.283           1940   \n",
       "1479      1990             0    98029  47.5771 -121.994           2500   \n",
       "6210      1976             0    98074  47.6415 -122.057           2470   \n",
       "5941      1943             0    98056  47.4883 -122.191           1500   \n",
       "2389      2004             0    98117  47.6765 -122.389           1270   \n",
       "\n",
       "      sqft_lot15  price  \n",
       "488        10200  3.220  \n",
       "1479        9122  6.525  \n",
       "6210       11900  6.050  \n",
       "5941        8447  3.000  \n",
       "2389        3060  7.350  \n",
       "\n",
       "[5 rows x 22 columns]"
      ]
     },
     "execution_count": 156,
     "metadata": {},
     "output_type": "execute_result"
    }
   ],
   "source": [
    "#load training data\n",
    "df_original = pd.read_csv(train_data_source)\n",
    "df_original.sample(5)"
   ]
  },
  {
   "cell_type": "markdown",
   "metadata": {},
   "source": [
    "# correlation matrix"
   ]
  },
  {
   "cell_type": "code",
   "execution_count": 157,
   "metadata": {},
   "outputs": [
    {
     "data": {
      "text/html": [
       "<div>\n",
       "<style scoped>\n",
       "    .dataframe tbody tr th:only-of-type {\n",
       "        vertical-align: middle;\n",
       "    }\n",
       "\n",
       "    .dataframe tbody tr th {\n",
       "        vertical-align: top;\n",
       "    }\n",
       "\n",
       "    .dataframe thead th {\n",
       "        text-align: right;\n",
       "    }\n",
       "</style>\n",
       "<table border=\"1\" class=\"dataframe\">\n",
       "  <thead>\n",
       "    <tr style=\"text-align: right;\">\n",
       "      <th></th>\n",
       "      <th>dummy</th>\n",
       "      <th>id</th>\n",
       "      <th>bedrooms</th>\n",
       "      <th>bathrooms</th>\n",
       "      <th>sqft_living</th>\n",
       "      <th>sqft_lot</th>\n",
       "      <th>floors</th>\n",
       "      <th>waterfront</th>\n",
       "      <th>view</th>\n",
       "      <th>condition</th>\n",
       "      <th>...</th>\n",
       "      <th>sqft_above</th>\n",
       "      <th>sqft_basement</th>\n",
       "      <th>yr_built</th>\n",
       "      <th>yr_renovated</th>\n",
       "      <th>zipcode</th>\n",
       "      <th>lat</th>\n",
       "      <th>long</th>\n",
       "      <th>sqft_living15</th>\n",
       "      <th>sqft_lot15</th>\n",
       "      <th>price</th>\n",
       "    </tr>\n",
       "  </thead>\n",
       "  <tbody>\n",
       "    <tr>\n",
       "      <th>dummy</th>\n",
       "      <td>NaN</td>\n",
       "      <td>NaN</td>\n",
       "      <td>NaN</td>\n",
       "      <td>NaN</td>\n",
       "      <td>NaN</td>\n",
       "      <td>NaN</td>\n",
       "      <td>NaN</td>\n",
       "      <td>NaN</td>\n",
       "      <td>NaN</td>\n",
       "      <td>NaN</td>\n",
       "      <td>...</td>\n",
       "      <td>NaN</td>\n",
       "      <td>NaN</td>\n",
       "      <td>NaN</td>\n",
       "      <td>NaN</td>\n",
       "      <td>NaN</td>\n",
       "      <td>NaN</td>\n",
       "      <td>NaN</td>\n",
       "      <td>NaN</td>\n",
       "      <td>NaN</td>\n",
       "      <td>NaN</td>\n",
       "    </tr>\n",
       "    <tr>\n",
       "      <th>id</th>\n",
       "      <td>NaN</td>\n",
       "      <td>1.000000</td>\n",
       "      <td>0.009571</td>\n",
       "      <td>0.013088</td>\n",
       "      <td>-0.003695</td>\n",
       "      <td>-0.126239</td>\n",
       "      <td>0.015749</td>\n",
       "      <td>-0.006859</td>\n",
       "      <td>0.007224</td>\n",
       "      <td>-0.028498</td>\n",
       "      <td>...</td>\n",
       "      <td>-0.005744</td>\n",
       "      <td>0.003230</td>\n",
       "      <td>0.030323</td>\n",
       "      <td>-0.020651</td>\n",
       "      <td>-0.013230</td>\n",
       "      <td>-0.000096</td>\n",
       "      <td>0.022089</td>\n",
       "      <td>-0.002148</td>\n",
       "      <td>-0.124169</td>\n",
       "      <td>-0.014748</td>\n",
       "    </tr>\n",
       "    <tr>\n",
       "      <th>bedrooms</th>\n",
       "      <td>NaN</td>\n",
       "      <td>0.009571</td>\n",
       "      <td>1.000000</td>\n",
       "      <td>0.492908</td>\n",
       "      <td>0.566724</td>\n",
       "      <td>0.026586</td>\n",
       "      <td>0.171673</td>\n",
       "      <td>-0.009237</td>\n",
       "      <td>0.082935</td>\n",
       "      <td>0.027587</td>\n",
       "      <td>...</td>\n",
       "      <td>0.468981</td>\n",
       "      <td>0.291525</td>\n",
       "      <td>0.153975</td>\n",
       "      <td>0.011714</td>\n",
       "      <td>-0.151854</td>\n",
       "      <td>-0.014800</td>\n",
       "      <td>0.135611</td>\n",
       "      <td>0.387012</td>\n",
       "      <td>0.025704</td>\n",
       "      <td>0.304994</td>\n",
       "    </tr>\n",
       "    <tr>\n",
       "      <th>bathrooms</th>\n",
       "      <td>NaN</td>\n",
       "      <td>0.013088</td>\n",
       "      <td>0.492908</td>\n",
       "      <td>1.000000</td>\n",
       "      <td>0.753826</td>\n",
       "      <td>0.077894</td>\n",
       "      <td>0.514202</td>\n",
       "      <td>0.044960</td>\n",
       "      <td>0.189175</td>\n",
       "      <td>-0.132256</td>\n",
       "      <td>...</td>\n",
       "      <td>0.688100</td>\n",
       "      <td>0.264985</td>\n",
       "      <td>0.515811</td>\n",
       "      <td>0.028823</td>\n",
       "      <td>-0.204217</td>\n",
       "      <td>0.014722</td>\n",
       "      <td>0.230576</td>\n",
       "      <td>0.575767</td>\n",
       "      <td>0.087405</td>\n",
       "      <td>0.524480</td>\n",
       "    </tr>\n",
       "    <tr>\n",
       "      <th>sqft_living</th>\n",
       "      <td>NaN</td>\n",
       "      <td>-0.003695</td>\n",
       "      <td>0.566724</td>\n",
       "      <td>0.753826</td>\n",
       "      <td>1.000000</td>\n",
       "      <td>0.172406</td>\n",
       "      <td>0.359159</td>\n",
       "      <td>0.080323</td>\n",
       "      <td>0.281434</td>\n",
       "      <td>-0.059997</td>\n",
       "      <td>...</td>\n",
       "      <td>0.879322</td>\n",
       "      <td>0.415481</td>\n",
       "      <td>0.325948</td>\n",
       "      <td>0.030222</td>\n",
       "      <td>-0.199869</td>\n",
       "      <td>0.037184</td>\n",
       "      <td>0.252701</td>\n",
       "      <td>0.767427</td>\n",
       "      <td>0.187928</td>\n",
       "      <td>0.693156</td>\n",
       "    </tr>\n",
       "    <tr>\n",
       "      <th>sqft_lot</th>\n",
       "      <td>NaN</td>\n",
       "      <td>-0.126239</td>\n",
       "      <td>0.026586</td>\n",
       "      <td>0.077894</td>\n",
       "      <td>0.172406</td>\n",
       "      <td>1.000000</td>\n",
       "      <td>-0.003914</td>\n",
       "      <td>0.030918</td>\n",
       "      <td>0.093269</td>\n",
       "      <td>-0.007812</td>\n",
       "      <td>...</td>\n",
       "      <td>0.185731</td>\n",
       "      <td>0.006441</td>\n",
       "      <td>0.053269</td>\n",
       "      <td>0.008237</td>\n",
       "      <td>-0.127988</td>\n",
       "      <td>-0.091396</td>\n",
       "      <td>0.221079</td>\n",
       "      <td>0.145951</td>\n",
       "      <td>0.766928</td>\n",
       "      <td>0.090327</td>\n",
       "    </tr>\n",
       "    <tr>\n",
       "      <th>floors</th>\n",
       "      <td>NaN</td>\n",
       "      <td>0.015749</td>\n",
       "      <td>0.171673</td>\n",
       "      <td>0.514202</td>\n",
       "      <td>0.359159</td>\n",
       "      <td>-0.003914</td>\n",
       "      <td>1.000000</td>\n",
       "      <td>0.019322</td>\n",
       "      <td>0.032063</td>\n",
       "      <td>-0.263973</td>\n",
       "      <td>...</td>\n",
       "      <td>0.525619</td>\n",
       "      <td>-0.251502</td>\n",
       "      <td>0.491236</td>\n",
       "      <td>-0.001851</td>\n",
       "      <td>-0.064221</td>\n",
       "      <td>0.047280</td>\n",
       "      <td>0.133802</td>\n",
       "      <td>0.285700</td>\n",
       "      <td>-0.014699</td>\n",
       "      <td>0.265757</td>\n",
       "    </tr>\n",
       "    <tr>\n",
       "      <th>waterfront</th>\n",
       "      <td>NaN</td>\n",
       "      <td>-0.006859</td>\n",
       "      <td>-0.009237</td>\n",
       "      <td>0.044960</td>\n",
       "      <td>0.080323</td>\n",
       "      <td>0.030918</td>\n",
       "      <td>0.019322</td>\n",
       "      <td>1.000000</td>\n",
       "      <td>0.387081</td>\n",
       "      <td>0.026360</td>\n",
       "      <td>...</td>\n",
       "      <td>0.060511</td>\n",
       "      <td>0.052698</td>\n",
       "      <td>-0.037503</td>\n",
       "      <td>0.061097</td>\n",
       "      <td>0.039637</td>\n",
       "      <td>-0.019403</td>\n",
       "      <td>-0.048597</td>\n",
       "      <td>0.075997</td>\n",
       "      <td>0.023875</td>\n",
       "      <td>0.222654</td>\n",
       "    </tr>\n",
       "    <tr>\n",
       "      <th>view</th>\n",
       "      <td>NaN</td>\n",
       "      <td>0.007224</td>\n",
       "      <td>0.082935</td>\n",
       "      <td>0.189175</td>\n",
       "      <td>0.281434</td>\n",
       "      <td>0.093269</td>\n",
       "      <td>0.032063</td>\n",
       "      <td>0.387081</td>\n",
       "      <td>1.000000</td>\n",
       "      <td>0.054153</td>\n",
       "      <td>...</td>\n",
       "      <td>0.168429</td>\n",
       "      <td>0.267902</td>\n",
       "      <td>-0.054604</td>\n",
       "      <td>0.091935</td>\n",
       "      <td>0.077631</td>\n",
       "      <td>-0.003251</td>\n",
       "      <td>-0.072904</td>\n",
       "      <td>0.273224</td>\n",
       "      <td>0.073885</td>\n",
       "      <td>0.392961</td>\n",
       "    </tr>\n",
       "    <tr>\n",
       "      <th>condition</th>\n",
       "      <td>NaN</td>\n",
       "      <td>-0.028498</td>\n",
       "      <td>0.027587</td>\n",
       "      <td>-0.132256</td>\n",
       "      <td>-0.059997</td>\n",
       "      <td>-0.007812</td>\n",
       "      <td>-0.263973</td>\n",
       "      <td>0.026360</td>\n",
       "      <td>0.054153</td>\n",
       "      <td>1.000000</td>\n",
       "      <td>...</td>\n",
       "      <td>-0.154599</td>\n",
       "      <td>0.169593</td>\n",
       "      <td>-0.371877</td>\n",
       "      <td>-0.056667</td>\n",
       "      <td>0.015185</td>\n",
       "      <td>-0.000121</td>\n",
       "      <td>-0.117979</td>\n",
       "      <td>-0.095066</td>\n",
       "      <td>-0.003873</td>\n",
       "      <td>0.051306</td>\n",
       "    </tr>\n",
       "    <tr>\n",
       "      <th>grade</th>\n",
       "      <td>NaN</td>\n",
       "      <td>0.016372</td>\n",
       "      <td>0.345664</td>\n",
       "      <td>0.665506</td>\n",
       "      <td>0.764640</td>\n",
       "      <td>0.111763</td>\n",
       "      <td>0.463397</td>\n",
       "      <td>0.056796</td>\n",
       "      <td>0.250313</td>\n",
       "      <td>-0.139661</td>\n",
       "      <td>...</td>\n",
       "      <td>0.758138</td>\n",
       "      <td>0.153864</td>\n",
       "      <td>0.448902</td>\n",
       "      <td>0.002488</td>\n",
       "      <td>-0.192635</td>\n",
       "      <td>0.109004</td>\n",
       "      <td>0.218135</td>\n",
       "      <td>0.719191</td>\n",
       "      <td>0.123551</td>\n",
       "      <td>0.671957</td>\n",
       "    </tr>\n",
       "    <tr>\n",
       "      <th>sqft_above</th>\n",
       "      <td>NaN</td>\n",
       "      <td>-0.005744</td>\n",
       "      <td>0.468981</td>\n",
       "      <td>0.688100</td>\n",
       "      <td>0.879322</td>\n",
       "      <td>0.185731</td>\n",
       "      <td>0.525619</td>\n",
       "      <td>0.060511</td>\n",
       "      <td>0.168429</td>\n",
       "      <td>-0.154599</td>\n",
       "      <td>...</td>\n",
       "      <td>1.000000</td>\n",
       "      <td>-0.067837</td>\n",
       "      <td>0.430545</td>\n",
       "      <td>0.005719</td>\n",
       "      <td>-0.265109</td>\n",
       "      <td>-0.012607</td>\n",
       "      <td>0.357767</td>\n",
       "      <td>0.743508</td>\n",
       "      <td>0.199800</td>\n",
       "      <td>0.605777</td>\n",
       "    </tr>\n",
       "    <tr>\n",
       "      <th>sqft_basement</th>\n",
       "      <td>NaN</td>\n",
       "      <td>0.003230</td>\n",
       "      <td>0.291525</td>\n",
       "      <td>0.264985</td>\n",
       "      <td>0.415481</td>\n",
       "      <td>0.006441</td>\n",
       "      <td>-0.251502</td>\n",
       "      <td>0.052698</td>\n",
       "      <td>0.267902</td>\n",
       "      <td>0.169593</td>\n",
       "      <td>...</td>\n",
       "      <td>-0.067837</td>\n",
       "      <td>1.000000</td>\n",
       "      <td>-0.139487</td>\n",
       "      <td>0.052391</td>\n",
       "      <td>0.087638</td>\n",
       "      <td>0.101981</td>\n",
       "      <td>-0.153931</td>\n",
       "      <td>0.187647</td>\n",
       "      <td>0.012087</td>\n",
       "      <td>0.295117</td>\n",
       "    </tr>\n",
       "    <tr>\n",
       "      <th>yr_built</th>\n",
       "      <td>NaN</td>\n",
       "      <td>0.030323</td>\n",
       "      <td>0.153975</td>\n",
       "      <td>0.515811</td>\n",
       "      <td>0.325948</td>\n",
       "      <td>0.053269</td>\n",
       "      <td>0.491236</td>\n",
       "      <td>-0.037503</td>\n",
       "      <td>-0.054604</td>\n",
       "      <td>-0.371877</td>\n",
       "      <td>...</td>\n",
       "      <td>0.430545</td>\n",
       "      <td>-0.139487</td>\n",
       "      <td>1.000000</td>\n",
       "      <td>-0.224841</td>\n",
       "      <td>-0.349124</td>\n",
       "      <td>-0.151835</td>\n",
       "      <td>0.413813</td>\n",
       "      <td>0.335901</td>\n",
       "      <td>0.074321</td>\n",
       "      <td>0.057532</td>\n",
       "    </tr>\n",
       "    <tr>\n",
       "      <th>yr_renovated</th>\n",
       "      <td>NaN</td>\n",
       "      <td>-0.020651</td>\n",
       "      <td>0.011714</td>\n",
       "      <td>0.028823</td>\n",
       "      <td>0.030222</td>\n",
       "      <td>0.008237</td>\n",
       "      <td>-0.001851</td>\n",
       "      <td>0.061097</td>\n",
       "      <td>0.091935</td>\n",
       "      <td>-0.056667</td>\n",
       "      <td>...</td>\n",
       "      <td>0.005719</td>\n",
       "      <td>0.052391</td>\n",
       "      <td>-0.224841</td>\n",
       "      <td>1.000000</td>\n",
       "      <td>0.055072</td>\n",
       "      <td>0.020392</td>\n",
       "      <td>-0.060376</td>\n",
       "      <td>-0.015956</td>\n",
       "      <td>0.006108</td>\n",
       "      <td>0.095046</td>\n",
       "    </tr>\n",
       "    <tr>\n",
       "      <th>zipcode</th>\n",
       "      <td>NaN</td>\n",
       "      <td>-0.013230</td>\n",
       "      <td>-0.151854</td>\n",
       "      <td>-0.204217</td>\n",
       "      <td>-0.199869</td>\n",
       "      <td>-0.127988</td>\n",
       "      <td>-0.064221</td>\n",
       "      <td>0.039637</td>\n",
       "      <td>0.077631</td>\n",
       "      <td>0.015185</td>\n",
       "      <td>...</td>\n",
       "      <td>-0.265109</td>\n",
       "      <td>0.087638</td>\n",
       "      <td>-0.349124</td>\n",
       "      <td>0.055072</td>\n",
       "      <td>1.000000</td>\n",
       "      <td>0.261826</td>\n",
       "      <td>-0.564599</td>\n",
       "      <td>-0.282833</td>\n",
       "      <td>-0.144126</td>\n",
       "      <td>-0.048750</td>\n",
       "    </tr>\n",
       "    <tr>\n",
       "      <th>lat</th>\n",
       "      <td>NaN</td>\n",
       "      <td>-0.000096</td>\n",
       "      <td>-0.014800</td>\n",
       "      <td>0.014722</td>\n",
       "      <td>0.037184</td>\n",
       "      <td>-0.091396</td>\n",
       "      <td>0.047280</td>\n",
       "      <td>-0.019403</td>\n",
       "      <td>-0.003251</td>\n",
       "      <td>-0.000121</td>\n",
       "      <td>...</td>\n",
       "      <td>-0.012607</td>\n",
       "      <td>0.101981</td>\n",
       "      <td>-0.151835</td>\n",
       "      <td>0.020392</td>\n",
       "      <td>0.261826</td>\n",
       "      <td>1.000000</td>\n",
       "      <td>-0.139907</td>\n",
       "      <td>0.041153</td>\n",
       "      <td>-0.080149</td>\n",
       "      <td>0.307248</td>\n",
       "    </tr>\n",
       "    <tr>\n",
       "      <th>long</th>\n",
       "      <td>NaN</td>\n",
       "      <td>0.022089</td>\n",
       "      <td>0.135611</td>\n",
       "      <td>0.230576</td>\n",
       "      <td>0.252701</td>\n",
       "      <td>0.221079</td>\n",
       "      <td>0.133802</td>\n",
       "      <td>-0.048597</td>\n",
       "      <td>-0.072904</td>\n",
       "      <td>-0.117979</td>\n",
       "      <td>...</td>\n",
       "      <td>0.357767</td>\n",
       "      <td>-0.153931</td>\n",
       "      <td>0.413813</td>\n",
       "      <td>-0.060376</td>\n",
       "      <td>-0.564599</td>\n",
       "      <td>-0.139907</td>\n",
       "      <td>1.000000</td>\n",
       "      <td>0.349748</td>\n",
       "      <td>0.259497</td>\n",
       "      <td>0.025544</td>\n",
       "    </tr>\n",
       "    <tr>\n",
       "      <th>sqft_living15</th>\n",
       "      <td>NaN</td>\n",
       "      <td>-0.002148</td>\n",
       "      <td>0.387012</td>\n",
       "      <td>0.575767</td>\n",
       "      <td>0.767427</td>\n",
       "      <td>0.145951</td>\n",
       "      <td>0.285700</td>\n",
       "      <td>0.075997</td>\n",
       "      <td>0.273224</td>\n",
       "      <td>-0.095066</td>\n",
       "      <td>...</td>\n",
       "      <td>0.743508</td>\n",
       "      <td>0.187647</td>\n",
       "      <td>0.335901</td>\n",
       "      <td>-0.015956</td>\n",
       "      <td>-0.282833</td>\n",
       "      <td>0.041153</td>\n",
       "      <td>0.349748</td>\n",
       "      <td>1.000000</td>\n",
       "      <td>0.182629</td>\n",
       "      <td>0.589190</td>\n",
       "    </tr>\n",
       "    <tr>\n",
       "      <th>sqft_lot15</th>\n",
       "      <td>NaN</td>\n",
       "      <td>-0.124169</td>\n",
       "      <td>0.025704</td>\n",
       "      <td>0.087405</td>\n",
       "      <td>0.187928</td>\n",
       "      <td>0.766928</td>\n",
       "      <td>-0.014699</td>\n",
       "      <td>0.023875</td>\n",
       "      <td>0.073885</td>\n",
       "      <td>-0.003873</td>\n",
       "      <td>...</td>\n",
       "      <td>0.199800</td>\n",
       "      <td>0.012087</td>\n",
       "      <td>0.074321</td>\n",
       "      <td>0.006108</td>\n",
       "      <td>-0.144126</td>\n",
       "      <td>-0.080149</td>\n",
       "      <td>0.259497</td>\n",
       "      <td>0.182629</td>\n",
       "      <td>1.000000</td>\n",
       "      <td>0.085476</td>\n",
       "    </tr>\n",
       "    <tr>\n",
       "      <th>price</th>\n",
       "      <td>NaN</td>\n",
       "      <td>-0.014748</td>\n",
       "      <td>0.304994</td>\n",
       "      <td>0.524480</td>\n",
       "      <td>0.693156</td>\n",
       "      <td>0.090327</td>\n",
       "      <td>0.265757</td>\n",
       "      <td>0.222654</td>\n",
       "      <td>0.392961</td>\n",
       "      <td>0.051306</td>\n",
       "      <td>...</td>\n",
       "      <td>0.605777</td>\n",
       "      <td>0.295117</td>\n",
       "      <td>0.057532</td>\n",
       "      <td>0.095046</td>\n",
       "      <td>-0.048750</td>\n",
       "      <td>0.307248</td>\n",
       "      <td>0.025544</td>\n",
       "      <td>0.589190</td>\n",
       "      <td>0.085476</td>\n",
       "      <td>1.000000</td>\n",
       "    </tr>\n",
       "  </tbody>\n",
       "</table>\n",
       "<p>21 rows × 21 columns</p>\n",
       "</div>"
      ],
      "text/plain": [
       "               dummy        id  bedrooms  bathrooms  sqft_living  sqft_lot  \\\n",
       "dummy            NaN       NaN       NaN        NaN          NaN       NaN   \n",
       "id               NaN  1.000000  0.009571   0.013088    -0.003695 -0.126239   \n",
       "bedrooms         NaN  0.009571  1.000000   0.492908     0.566724  0.026586   \n",
       "bathrooms        NaN  0.013088  0.492908   1.000000     0.753826  0.077894   \n",
       "sqft_living      NaN -0.003695  0.566724   0.753826     1.000000  0.172406   \n",
       "sqft_lot         NaN -0.126239  0.026586   0.077894     0.172406  1.000000   \n",
       "floors           NaN  0.015749  0.171673   0.514202     0.359159 -0.003914   \n",
       "waterfront       NaN -0.006859 -0.009237   0.044960     0.080323  0.030918   \n",
       "view             NaN  0.007224  0.082935   0.189175     0.281434  0.093269   \n",
       "condition        NaN -0.028498  0.027587  -0.132256    -0.059997 -0.007812   \n",
       "grade            NaN  0.016372  0.345664   0.665506     0.764640  0.111763   \n",
       "sqft_above       NaN -0.005744  0.468981   0.688100     0.879322  0.185731   \n",
       "sqft_basement    NaN  0.003230  0.291525   0.264985     0.415481  0.006441   \n",
       "yr_built         NaN  0.030323  0.153975   0.515811     0.325948  0.053269   \n",
       "yr_renovated     NaN -0.020651  0.011714   0.028823     0.030222  0.008237   \n",
       "zipcode          NaN -0.013230 -0.151854  -0.204217    -0.199869 -0.127988   \n",
       "lat              NaN -0.000096 -0.014800   0.014722     0.037184 -0.091396   \n",
       "long             NaN  0.022089  0.135611   0.230576     0.252701  0.221079   \n",
       "sqft_living15    NaN -0.002148  0.387012   0.575767     0.767427  0.145951   \n",
       "sqft_lot15       NaN -0.124169  0.025704   0.087405     0.187928  0.766928   \n",
       "price            NaN -0.014748  0.304994   0.524480     0.693156  0.090327   \n",
       "\n",
       "                 floors  waterfront      view  condition    ...     \\\n",
       "dummy               NaN         NaN       NaN        NaN    ...      \n",
       "id             0.015749   -0.006859  0.007224  -0.028498    ...      \n",
       "bedrooms       0.171673   -0.009237  0.082935   0.027587    ...      \n",
       "bathrooms      0.514202    0.044960  0.189175  -0.132256    ...      \n",
       "sqft_living    0.359159    0.080323  0.281434  -0.059997    ...      \n",
       "sqft_lot      -0.003914    0.030918  0.093269  -0.007812    ...      \n",
       "floors         1.000000    0.019322  0.032063  -0.263973    ...      \n",
       "waterfront     0.019322    1.000000  0.387081   0.026360    ...      \n",
       "view           0.032063    0.387081  1.000000   0.054153    ...      \n",
       "condition     -0.263973    0.026360  0.054153   1.000000    ...      \n",
       "grade          0.463397    0.056796  0.250313  -0.139661    ...      \n",
       "sqft_above     0.525619    0.060511  0.168429  -0.154599    ...      \n",
       "sqft_basement -0.251502    0.052698  0.267902   0.169593    ...      \n",
       "yr_built       0.491236   -0.037503 -0.054604  -0.371877    ...      \n",
       "yr_renovated  -0.001851    0.061097  0.091935  -0.056667    ...      \n",
       "zipcode       -0.064221    0.039637  0.077631   0.015185    ...      \n",
       "lat            0.047280   -0.019403 -0.003251  -0.000121    ...      \n",
       "long           0.133802   -0.048597 -0.072904  -0.117979    ...      \n",
       "sqft_living15  0.285700    0.075997  0.273224  -0.095066    ...      \n",
       "sqft_lot15    -0.014699    0.023875  0.073885  -0.003873    ...      \n",
       "price          0.265757    0.222654  0.392961   0.051306    ...      \n",
       "\n",
       "               sqft_above  sqft_basement  yr_built  yr_renovated   zipcode  \\\n",
       "dummy                 NaN            NaN       NaN           NaN       NaN   \n",
       "id              -0.005744       0.003230  0.030323     -0.020651 -0.013230   \n",
       "bedrooms         0.468981       0.291525  0.153975      0.011714 -0.151854   \n",
       "bathrooms        0.688100       0.264985  0.515811      0.028823 -0.204217   \n",
       "sqft_living      0.879322       0.415481  0.325948      0.030222 -0.199869   \n",
       "sqft_lot         0.185731       0.006441  0.053269      0.008237 -0.127988   \n",
       "floors           0.525619      -0.251502  0.491236     -0.001851 -0.064221   \n",
       "waterfront       0.060511       0.052698 -0.037503      0.061097  0.039637   \n",
       "view             0.168429       0.267902 -0.054604      0.091935  0.077631   \n",
       "condition       -0.154599       0.169593 -0.371877     -0.056667  0.015185   \n",
       "grade            0.758138       0.153864  0.448902      0.002488 -0.192635   \n",
       "sqft_above       1.000000      -0.067837  0.430545      0.005719 -0.265109   \n",
       "sqft_basement   -0.067837       1.000000 -0.139487      0.052391  0.087638   \n",
       "yr_built         0.430545      -0.139487  1.000000     -0.224841 -0.349124   \n",
       "yr_renovated     0.005719       0.052391 -0.224841      1.000000  0.055072   \n",
       "zipcode         -0.265109       0.087638 -0.349124      0.055072  1.000000   \n",
       "lat             -0.012607       0.101981 -0.151835      0.020392  0.261826   \n",
       "long             0.357767      -0.153931  0.413813     -0.060376 -0.564599   \n",
       "sqft_living15    0.743508       0.187647  0.335901     -0.015956 -0.282833   \n",
       "sqft_lot15       0.199800       0.012087  0.074321      0.006108 -0.144126   \n",
       "price            0.605777       0.295117  0.057532      0.095046 -0.048750   \n",
       "\n",
       "                    lat      long  sqft_living15  sqft_lot15     price  \n",
       "dummy               NaN       NaN            NaN         NaN       NaN  \n",
       "id            -0.000096  0.022089      -0.002148   -0.124169 -0.014748  \n",
       "bedrooms      -0.014800  0.135611       0.387012    0.025704  0.304994  \n",
       "bathrooms      0.014722  0.230576       0.575767    0.087405  0.524480  \n",
       "sqft_living    0.037184  0.252701       0.767427    0.187928  0.693156  \n",
       "sqft_lot      -0.091396  0.221079       0.145951    0.766928  0.090327  \n",
       "floors         0.047280  0.133802       0.285700   -0.014699  0.265757  \n",
       "waterfront    -0.019403 -0.048597       0.075997    0.023875  0.222654  \n",
       "view          -0.003251 -0.072904       0.273224    0.073885  0.392961  \n",
       "condition     -0.000121 -0.117979      -0.095066   -0.003873  0.051306  \n",
       "grade          0.109004  0.218135       0.719191    0.123551  0.671957  \n",
       "sqft_above    -0.012607  0.357767       0.743508    0.199800  0.605777  \n",
       "sqft_basement  0.101981 -0.153931       0.187647    0.012087  0.295117  \n",
       "yr_built      -0.151835  0.413813       0.335901    0.074321  0.057532  \n",
       "yr_renovated   0.020392 -0.060376      -0.015956    0.006108  0.095046  \n",
       "zipcode        0.261826 -0.564599      -0.282833   -0.144126 -0.048750  \n",
       "lat            1.000000 -0.139907       0.041153   -0.080149  0.307248  \n",
       "long          -0.139907  1.000000       0.349748    0.259497  0.025544  \n",
       "sqft_living15  0.041153  0.349748       1.000000    0.182629  0.589190  \n",
       "sqft_lot15    -0.080149  0.259497       0.182629    1.000000  0.085476  \n",
       "price          0.307248  0.025544       0.589190    0.085476  1.000000  \n",
       "\n",
       "[21 rows x 21 columns]"
      ]
     },
     "execution_count": 157,
     "metadata": {},
     "output_type": "execute_result"
    }
   ],
   "source": [
    "corr = df_original.corr()\n",
    "corr"
   ]
  },
  {
   "cell_type": "markdown",
   "metadata": {},
   "source": [
    "# Part 0"
   ]
  },
  {
   "cell_type": "markdown",
   "metadata": {},
   "source": [
    "## 0 a:"
   ]
  },
  {
   "cell_type": "code",
   "execution_count": 158,
   "metadata": {},
   "outputs": [
    {
     "data": {
      "text/html": [
       "<div>\n",
       "<style scoped>\n",
       "    .dataframe tbody tr th:only-of-type {\n",
       "        vertical-align: middle;\n",
       "    }\n",
       "\n",
       "    .dataframe tbody tr th {\n",
       "        vertical-align: top;\n",
       "    }\n",
       "\n",
       "    .dataframe thead th {\n",
       "        text-align: right;\n",
       "    }\n",
       "</style>\n",
       "<table border=\"1\" class=\"dataframe\">\n",
       "  <thead>\n",
       "    <tr style=\"text-align: right;\">\n",
       "      <th></th>\n",
       "      <th>dummy</th>\n",
       "      <th>date</th>\n",
       "      <th>bedrooms</th>\n",
       "      <th>bathrooms</th>\n",
       "      <th>sqft_living</th>\n",
       "      <th>sqft_lot</th>\n",
       "      <th>floors</th>\n",
       "      <th>waterfront</th>\n",
       "      <th>view</th>\n",
       "      <th>condition</th>\n",
       "      <th>...</th>\n",
       "      <th>sqft_above</th>\n",
       "      <th>sqft_basement</th>\n",
       "      <th>yr_built</th>\n",
       "      <th>yr_renovated</th>\n",
       "      <th>zipcode</th>\n",
       "      <th>lat</th>\n",
       "      <th>long</th>\n",
       "      <th>sqft_living15</th>\n",
       "      <th>sqft_lot15</th>\n",
       "      <th>price</th>\n",
       "    </tr>\n",
       "  </thead>\n",
       "  <tbody>\n",
       "    <tr>\n",
       "      <th>3329</th>\n",
       "      <td>1</td>\n",
       "      <td>9/24/2014</td>\n",
       "      <td>3</td>\n",
       "      <td>1.00</td>\n",
       "      <td>890</td>\n",
       "      <td>9465</td>\n",
       "      <td>1.0</td>\n",
       "      <td>0</td>\n",
       "      <td>0</td>\n",
       "      <td>3</td>\n",
       "      <td>...</td>\n",
       "      <td>890</td>\n",
       "      <td>0</td>\n",
       "      <td>1957</td>\n",
       "      <td>0</td>\n",
       "      <td>98148</td>\n",
       "      <td>47.4388</td>\n",
       "      <td>-122.328</td>\n",
       "      <td>1590</td>\n",
       "      <td>9147</td>\n",
       "      <td>1.545</td>\n",
       "    </tr>\n",
       "    <tr>\n",
       "      <th>5575</th>\n",
       "      <td>1</td>\n",
       "      <td>5/2/2014</td>\n",
       "      <td>3</td>\n",
       "      <td>2.50</td>\n",
       "      <td>3240</td>\n",
       "      <td>33151</td>\n",
       "      <td>2.0</td>\n",
       "      <td>0</td>\n",
       "      <td>2</td>\n",
       "      <td>3</td>\n",
       "      <td>...</td>\n",
       "      <td>3240</td>\n",
       "      <td>0</td>\n",
       "      <td>1995</td>\n",
       "      <td>0</td>\n",
       "      <td>98023</td>\n",
       "      <td>47.3256</td>\n",
       "      <td>-122.378</td>\n",
       "      <td>4050</td>\n",
       "      <td>24967</td>\n",
       "      <td>6.040</td>\n",
       "    </tr>\n",
       "    <tr>\n",
       "      <th>5729</th>\n",
       "      <td>1</td>\n",
       "      <td>5/9/2014</td>\n",
       "      <td>3</td>\n",
       "      <td>1.75</td>\n",
       "      <td>1780</td>\n",
       "      <td>120661</td>\n",
       "      <td>1.0</td>\n",
       "      <td>0</td>\n",
       "      <td>0</td>\n",
       "      <td>4</td>\n",
       "      <td>...</td>\n",
       "      <td>1780</td>\n",
       "      <td>0</td>\n",
       "      <td>1979</td>\n",
       "      <td>0</td>\n",
       "      <td>98019</td>\n",
       "      <td>47.7731</td>\n",
       "      <td>-121.897</td>\n",
       "      <td>1440</td>\n",
       "      <td>25000</td>\n",
       "      <td>3.369</td>\n",
       "    </tr>\n",
       "    <tr>\n",
       "      <th>6938</th>\n",
       "      <td>1</td>\n",
       "      <td>10/30/2014</td>\n",
       "      <td>3</td>\n",
       "      <td>2.75</td>\n",
       "      <td>1820</td>\n",
       "      <td>9490</td>\n",
       "      <td>2.0</td>\n",
       "      <td>0</td>\n",
       "      <td>0</td>\n",
       "      <td>3</td>\n",
       "      <td>...</td>\n",
       "      <td>1820</td>\n",
       "      <td>0</td>\n",
       "      <td>1994</td>\n",
       "      <td>0</td>\n",
       "      <td>98011</td>\n",
       "      <td>47.7481</td>\n",
       "      <td>-122.178</td>\n",
       "      <td>1950</td>\n",
       "      <td>8851</td>\n",
       "      <td>4.885</td>\n",
       "    </tr>\n",
       "    <tr>\n",
       "      <th>7980</th>\n",
       "      <td>1</td>\n",
       "      <td>2/13/2015</td>\n",
       "      <td>4</td>\n",
       "      <td>1.75</td>\n",
       "      <td>1790</td>\n",
       "      <td>45738</td>\n",
       "      <td>1.0</td>\n",
       "      <td>0</td>\n",
       "      <td>0</td>\n",
       "      <td>3</td>\n",
       "      <td>...</td>\n",
       "      <td>1410</td>\n",
       "      <td>380</td>\n",
       "      <td>1976</td>\n",
       "      <td>0</td>\n",
       "      <td>98072</td>\n",
       "      <td>47.7453</td>\n",
       "      <td>-122.129</td>\n",
       "      <td>1870</td>\n",
       "      <td>47480</td>\n",
       "      <td>4.550</td>\n",
       "    </tr>\n",
       "  </tbody>\n",
       "</table>\n",
       "<p>5 rows × 21 columns</p>\n",
       "</div>"
      ],
      "text/plain": [
       "      dummy        date  bedrooms  bathrooms  sqft_living  sqft_lot  floors  \\\n",
       "3329      1   9/24/2014         3       1.00          890      9465     1.0   \n",
       "5575      1    5/2/2014         3       2.50         3240     33151     2.0   \n",
       "5729      1    5/9/2014         3       1.75         1780    120661     1.0   \n",
       "6938      1  10/30/2014         3       2.75         1820      9490     2.0   \n",
       "7980      1   2/13/2015         4       1.75         1790     45738     1.0   \n",
       "\n",
       "      waterfront  view  condition  ...    sqft_above  sqft_basement  yr_built  \\\n",
       "3329           0     0          3  ...           890              0      1957   \n",
       "5575           0     2          3  ...          3240              0      1995   \n",
       "5729           0     0          4  ...          1780              0      1979   \n",
       "6938           0     0          3  ...          1820              0      1994   \n",
       "7980           0     0          3  ...          1410            380      1976   \n",
       "\n",
       "      yr_renovated  zipcode      lat     long  sqft_living15  sqft_lot15  \\\n",
       "3329             0    98148  47.4388 -122.328           1590        9147   \n",
       "5575             0    98023  47.3256 -122.378           4050       24967   \n",
       "5729             0    98019  47.7731 -121.897           1440       25000   \n",
       "6938             0    98011  47.7481 -122.178           1950        8851   \n",
       "7980             0    98072  47.7453 -122.129           1870       47480   \n",
       "\n",
       "      price  \n",
       "3329  1.545  \n",
       "5575  6.040  \n",
       "5729  3.369  \n",
       "6938  4.885  \n",
       "7980  4.550  \n",
       "\n",
       "[5 rows x 21 columns]"
      ]
     },
     "execution_count": 158,
     "metadata": {},
     "output_type": "execute_result"
    }
   ],
   "source": [
    "#removing id feature\n",
    "df = df_original.drop([\"id\"], 1)\n",
    "df.sample(5)"
   ]
  },
  {
   "cell_type": "markdown",
   "metadata": {},
   "source": [
    "Since the **id** feature works as an **identifier** for the datapoint and is **not related to the price** of the houses, it is a bad idea to use it in learning. We can see that the [Correlation](#correlation-matrix) for id and price is `-0.028` which is low compared to other correlations"
   ]
  },
  {
   "cell_type": "markdown",
   "metadata": {},
   "source": [
    "## 0 b:"
   ]
  },
  {
   "cell_type": "code",
   "execution_count": 159,
   "metadata": {},
   "outputs": [],
   "source": [
    "#setup\n",
    "df_original[\"date\"] = pd.to_datetime(df_original[\"date\"])\n",
    "df_original[\"month_of_year\"] = df_original['date'].apply(lambda x: x.month)\n",
    "df_original[\"day_of_month\"] = df_original['date'].apply(lambda x: x.day)\n",
    "df_original[\"year\"] = df_original['date'].apply(lambda x: x.year)\n"
   ]
  },
  {
   "cell_type": "markdown",
   "metadata": {},
   "source": [
    "## splitting date into month day and year"
   ]
  },
  {
   "cell_type": "code",
   "execution_count": 160,
   "metadata": {},
   "outputs": [
    {
     "data": {
      "text/html": [
       "<div>\n",
       "<style scoped>\n",
       "    .dataframe tbody tr th:only-of-type {\n",
       "        vertical-align: middle;\n",
       "    }\n",
       "\n",
       "    .dataframe tbody tr th {\n",
       "        vertical-align: top;\n",
       "    }\n",
       "\n",
       "    .dataframe thead th {\n",
       "        text-align: right;\n",
       "    }\n",
       "</style>\n",
       "<table border=\"1\" class=\"dataframe\">\n",
       "  <thead>\n",
       "    <tr style=\"text-align: right;\">\n",
       "      <th></th>\n",
       "      <th>date</th>\n",
       "      <th>month_of_year</th>\n",
       "      <th>day_of_month</th>\n",
       "      <th>year</th>\n",
       "    </tr>\n",
       "  </thead>\n",
       "  <tbody>\n",
       "    <tr>\n",
       "      <th>6621</th>\n",
       "      <td>2014-08-11</td>\n",
       "      <td>8</td>\n",
       "      <td>11</td>\n",
       "      <td>2014</td>\n",
       "    </tr>\n",
       "    <tr>\n",
       "      <th>1475</th>\n",
       "      <td>2014-05-27</td>\n",
       "      <td>5</td>\n",
       "      <td>27</td>\n",
       "      <td>2014</td>\n",
       "    </tr>\n",
       "    <tr>\n",
       "      <th>8307</th>\n",
       "      <td>2014-07-18</td>\n",
       "      <td>7</td>\n",
       "      <td>18</td>\n",
       "      <td>2014</td>\n",
       "    </tr>\n",
       "    <tr>\n",
       "      <th>5377</th>\n",
       "      <td>2014-08-27</td>\n",
       "      <td>8</td>\n",
       "      <td>27</td>\n",
       "      <td>2014</td>\n",
       "    </tr>\n",
       "    <tr>\n",
       "      <th>3954</th>\n",
       "      <td>2014-07-28</td>\n",
       "      <td>7</td>\n",
       "      <td>28</td>\n",
       "      <td>2014</td>\n",
       "    </tr>\n",
       "  </tbody>\n",
       "</table>\n",
       "</div>"
      ],
      "text/plain": [
       "           date  month_of_year  day_of_month  year\n",
       "6621 2014-08-11              8            11  2014\n",
       "1475 2014-05-27              5            27  2014\n",
       "8307 2014-07-18              7            18  2014\n",
       "5377 2014-08-27              8            27  2014\n",
       "3954 2014-07-28              7            28  2014"
      ]
     },
     "execution_count": 160,
     "metadata": {},
     "output_type": "execute_result"
    }
   ],
   "source": [
    "df_original[[\"date\", \"month_of_year\", \"day_of_month\", \"year\"]].sample(5)"
   ]
  },
  {
   "cell_type": "code",
   "execution_count": 204,
   "metadata": {},
   "outputs": [
    {
     "data": {
      "text/plain": [
       "Text(0, 0.5, 'price')"
      ]
     },
     "execution_count": 204,
     "metadata": {},
     "output_type": "execute_result"
    },
    {
     "data": {
      "image/png": "[encoded data removed]",
      "text/plain": [
       "<Figure size 1440x720 with 1 Axes>"
      ]
     },
     "metadata": {
      "needs_background": "light"
     },
     "output_type": "display_data"
    }
   ],
   "source": [
    "plt.scatter(df_original[\"month_of_year\"], df_original[\"price\"])\n",
    "plt.xlabel(\"month\")\n",
    "plt.ylabel(\"price\")"
   ]
  },
  {
   "cell_type": "markdown",
   "metadata": {},
   "source": [
    "Here in the above `figure` we can see that the month feature retrieved from date can give us insights about the **effect of seasons** on the house prices. Therefore the date feature can be useful to extract such information."
   ]
  },
  {
   "cell_type": "markdown",
   "metadata": {},
   "source": [
    "## 0 c:"
   ]
  },
  {
   "cell_type": "code",
   "execution_count": 162,
   "metadata": {},
   "outputs": [],
   "source": [
    "#helper functions\n",
    "def stats(dataframe):\n",
    "    stats = dataframe.describe()\n",
    "    stats = stats.drop([\"count\", \"25%\", \"50%\", \"75%\",], 0)\n",
    "    stats.loc[\"range\"] = stats.loc[\"max\"] - stats.loc[\"min\"]\n",
    "    return stats\n",
    "\n",
    "def ordinal_stats(dataframe):\n",
    "    args = dataframe.columns.tolist()\n",
    "    stats = dataframe.describe()\n",
    "    frequency = [pd.Series((dataframe[x].value_counts() / dataframe[x].count())*100) for x in args]\n",
    "    return pd.DataFrame(frequency)"
   ]
  },
  {
   "cell_type": "markdown",
   "metadata": {},
   "source": [
    "## ordinal data stats"
   ]
  },
  {
   "cell_type": "code",
   "execution_count": 163,
   "metadata": {},
   "outputs": [
    {
     "data": {
      "text/html": [
       "<div>\n",
       "<style scoped>\n",
       "    .dataframe tbody tr th:only-of-type {\n",
       "        vertical-align: middle;\n",
       "    }\n",
       "\n",
       "    .dataframe tbody tr th {\n",
       "        vertical-align: top;\n",
       "    }\n",
       "\n",
       "    .dataframe thead th {\n",
       "        text-align: right;\n",
       "    }\n",
       "</style>\n",
       "<table border=\"1\" class=\"dataframe\">\n",
       "  <thead>\n",
       "    <tr style=\"text-align: right;\">\n",
       "      <th></th>\n",
       "      <th>0</th>\n",
       "      <th>1</th>\n",
       "      <th>2</th>\n",
       "      <th>3</th>\n",
       "      <th>4</th>\n",
       "      <th>5</th>\n",
       "      <th>6</th>\n",
       "      <th>7</th>\n",
       "      <th>8</th>\n",
       "      <th>9</th>\n",
       "      <th>10</th>\n",
       "      <th>11</th>\n",
       "      <th>12</th>\n",
       "      <th>13</th>\n",
       "    </tr>\n",
       "  </thead>\n",
       "  <tbody>\n",
       "    <tr>\n",
       "      <th>waterfront</th>\n",
       "      <td>99.3</td>\n",
       "      <td>0.70</td>\n",
       "      <td>NaN</td>\n",
       "      <td>NaN</td>\n",
       "      <td>NaN</td>\n",
       "      <td>NaN</td>\n",
       "      <td>NaN</td>\n",
       "      <td>NaN</td>\n",
       "      <td>NaN</td>\n",
       "      <td>NaN</td>\n",
       "      <td>NaN</td>\n",
       "      <td>NaN</td>\n",
       "      <td>NaN</td>\n",
       "      <td>NaN</td>\n",
       "    </tr>\n",
       "    <tr>\n",
       "      <th>grade</th>\n",
       "      <td>NaN</td>\n",
       "      <td>NaN</td>\n",
       "      <td>NaN</td>\n",
       "      <td>NaN</td>\n",
       "      <td>0.11</td>\n",
       "      <td>1.05</td>\n",
       "      <td>9.33</td>\n",
       "      <td>41.3</td>\n",
       "      <td>28.38</td>\n",
       "      <td>11.82</td>\n",
       "      <td>5.47</td>\n",
       "      <td>2.1</td>\n",
       "      <td>0.39</td>\n",
       "      <td>0.05</td>\n",
       "    </tr>\n",
       "    <tr>\n",
       "      <th>condition</th>\n",
       "      <td>NaN</td>\n",
       "      <td>0.13</td>\n",
       "      <td>0.76</td>\n",
       "      <td>65.3</td>\n",
       "      <td>25.69</td>\n",
       "      <td>8.12</td>\n",
       "      <td>NaN</td>\n",
       "      <td>NaN</td>\n",
       "      <td>NaN</td>\n",
       "      <td>NaN</td>\n",
       "      <td>NaN</td>\n",
       "      <td>NaN</td>\n",
       "      <td>NaN</td>\n",
       "      <td>NaN</td>\n",
       "    </tr>\n",
       "  </tbody>\n",
       "</table>\n",
       "</div>"
      ],
      "text/plain": [
       "              0     1     2     3      4     5     6     7      8      9   \\\n",
       "waterfront  99.3  0.70   NaN   NaN    NaN   NaN   NaN   NaN    NaN    NaN   \n",
       "grade        NaN   NaN   NaN   NaN   0.11  1.05  9.33  41.3  28.38  11.82   \n",
       "condition    NaN  0.13  0.76  65.3  25.69  8.12   NaN   NaN    NaN    NaN   \n",
       "\n",
       "              10   11    12    13  \n",
       "waterfront   NaN  NaN   NaN   NaN  \n",
       "grade       5.47  2.1  0.39  0.05  \n",
       "condition    NaN  NaN   NaN   NaN  "
      ]
     },
     "execution_count": 163,
     "metadata": {},
     "output_type": "execute_result"
    }
   ],
   "source": [
    "df_ordinal = df[[\"waterfront\",\"grade\",\"condition\"]]\n",
    "ordinal_stats(df_ordinal)"
   ]
  },
  {
   "cell_type": "markdown",
   "metadata": {},
   "source": [
    "## numerical data stats"
   ]
  },
  {
   "cell_type": "code",
   "execution_count": 164,
   "metadata": {},
   "outputs": [
    {
     "data": {
      "text/html": [
       "<div>\n",
       "<style scoped>\n",
       "    .dataframe tbody tr th:only-of-type {\n",
       "        vertical-align: middle;\n",
       "    }\n",
       "\n",
       "    .dataframe tbody tr th {\n",
       "        vertical-align: top;\n",
       "    }\n",
       "\n",
       "    .dataframe thead th {\n",
       "        text-align: right;\n",
       "    }\n",
       "</style>\n",
       "<table border=\"1\" class=\"dataframe\">\n",
       "  <thead>\n",
       "    <tr style=\"text-align: right;\">\n",
       "      <th></th>\n",
       "      <th>dummy</th>\n",
       "      <th>bedrooms</th>\n",
       "      <th>bathrooms</th>\n",
       "      <th>sqft_living</th>\n",
       "      <th>sqft_lot</th>\n",
       "      <th>floors</th>\n",
       "      <th>view</th>\n",
       "      <th>sqft_above</th>\n",
       "      <th>sqft_basement</th>\n",
       "      <th>yr_built</th>\n",
       "      <th>yr_renovated</th>\n",
       "      <th>zipcode</th>\n",
       "      <th>lat</th>\n",
       "      <th>long</th>\n",
       "      <th>sqft_living15</th>\n",
       "      <th>sqft_lot15</th>\n",
       "      <th>price</th>\n",
       "    </tr>\n",
       "  </thead>\n",
       "  <tbody>\n",
       "    <tr>\n",
       "      <th>mean</th>\n",
       "      <td>1.0</td>\n",
       "      <td>3.375200</td>\n",
       "      <td>2.118875</td>\n",
       "      <td>2080.223200</td>\n",
       "      <td>1.508920e+04</td>\n",
       "      <td>1.503700</td>\n",
       "      <td>0.229400</td>\n",
       "      <td>1793.099300</td>\n",
       "      <td>287.123900</td>\n",
       "      <td>1971.124900</td>\n",
       "      <td>81.226700</td>\n",
       "      <td>98078.293100</td>\n",
       "      <td>47.559814</td>\n",
       "      <td>-122.213286</td>\n",
       "      <td>1994.326100</td>\n",
       "      <td>12746.323400</td>\n",
       "      <td>5.385297</td>\n",
       "    </tr>\n",
       "    <tr>\n",
       "      <th>std</th>\n",
       "      <td>0.0</td>\n",
       "      <td>0.943246</td>\n",
       "      <td>0.765128</td>\n",
       "      <td>911.334358</td>\n",
       "      <td>4.120389e+04</td>\n",
       "      <td>0.542647</td>\n",
       "      <td>0.755932</td>\n",
       "      <td>830.865434</td>\n",
       "      <td>435.005264</td>\n",
       "      <td>29.480594</td>\n",
       "      <td>394.379804</td>\n",
       "      <td>53.518391</td>\n",
       "      <td>0.138651</td>\n",
       "      <td>0.141405</td>\n",
       "      <td>691.900301</td>\n",
       "      <td>28241.243043</td>\n",
       "      <td>3.573901</td>\n",
       "    </tr>\n",
       "    <tr>\n",
       "      <th>min</th>\n",
       "      <td>1.0</td>\n",
       "      <td>1.000000</td>\n",
       "      <td>0.500000</td>\n",
       "      <td>370.000000</td>\n",
       "      <td>5.720000e+02</td>\n",
       "      <td>1.000000</td>\n",
       "      <td>0.000000</td>\n",
       "      <td>370.000000</td>\n",
       "      <td>0.000000</td>\n",
       "      <td>1900.000000</td>\n",
       "      <td>0.000000</td>\n",
       "      <td>98001.000000</td>\n",
       "      <td>47.155900</td>\n",
       "      <td>-122.514000</td>\n",
       "      <td>460.000000</td>\n",
       "      <td>660.000000</td>\n",
       "      <td>0.820000</td>\n",
       "    </tr>\n",
       "    <tr>\n",
       "      <th>max</th>\n",
       "      <td>1.0</td>\n",
       "      <td>33.000000</td>\n",
       "      <td>7.750000</td>\n",
       "      <td>9890.000000</td>\n",
       "      <td>1.651359e+06</td>\n",
       "      <td>3.500000</td>\n",
       "      <td>4.000000</td>\n",
       "      <td>8860.000000</td>\n",
       "      <td>2720.000000</td>\n",
       "      <td>2015.000000</td>\n",
       "      <td>2015.000000</td>\n",
       "      <td>98199.000000</td>\n",
       "      <td>47.777600</td>\n",
       "      <td>-121.319000</td>\n",
       "      <td>6110.000000</td>\n",
       "      <td>871200.000000</td>\n",
       "      <td>68.900000</td>\n",
       "    </tr>\n",
       "    <tr>\n",
       "      <th>range</th>\n",
       "      <td>0.0</td>\n",
       "      <td>32.000000</td>\n",
       "      <td>7.250000</td>\n",
       "      <td>9520.000000</td>\n",
       "      <td>1.650787e+06</td>\n",
       "      <td>2.500000</td>\n",
       "      <td>4.000000</td>\n",
       "      <td>8490.000000</td>\n",
       "      <td>2720.000000</td>\n",
       "      <td>115.000000</td>\n",
       "      <td>2015.000000</td>\n",
       "      <td>198.000000</td>\n",
       "      <td>0.621700</td>\n",
       "      <td>1.195000</td>\n",
       "      <td>5650.000000</td>\n",
       "      <td>870540.000000</td>\n",
       "      <td>68.080000</td>\n",
       "    </tr>\n",
       "  </tbody>\n",
       "</table>\n",
       "</div>"
      ],
      "text/plain": [
       "       dummy   bedrooms  bathrooms  sqft_living      sqft_lot    floors  \\\n",
       "mean     1.0   3.375200   2.118875  2080.223200  1.508920e+04  1.503700   \n",
       "std      0.0   0.943246   0.765128   911.334358  4.120389e+04  0.542647   \n",
       "min      1.0   1.000000   0.500000   370.000000  5.720000e+02  1.000000   \n",
       "max      1.0  33.000000   7.750000  9890.000000  1.651359e+06  3.500000   \n",
       "range    0.0  32.000000   7.250000  9520.000000  1.650787e+06  2.500000   \n",
       "\n",
       "           view   sqft_above  sqft_basement     yr_built  yr_renovated  \\\n",
       "mean   0.229400  1793.099300     287.123900  1971.124900     81.226700   \n",
       "std    0.755932   830.865434     435.005264    29.480594    394.379804   \n",
       "min    0.000000   370.000000       0.000000  1900.000000      0.000000   \n",
       "max    4.000000  8860.000000    2720.000000  2015.000000   2015.000000   \n",
       "range  4.000000  8490.000000    2720.000000   115.000000   2015.000000   \n",
       "\n",
       "            zipcode        lat        long  sqft_living15     sqft_lot15  \\\n",
       "mean   98078.293100  47.559814 -122.213286    1994.326100   12746.323400   \n",
       "std       53.518391   0.138651    0.141405     691.900301   28241.243043   \n",
       "min    98001.000000  47.155900 -122.514000     460.000000     660.000000   \n",
       "max    98199.000000  47.777600 -121.319000    6110.000000  871200.000000   \n",
       "range    198.000000   0.621700    1.195000    5650.000000  870540.000000   \n",
       "\n",
       "           price  \n",
       "mean    5.385297  \n",
       "std     3.573901  \n",
       "min     0.820000  \n",
       "max    68.900000  \n",
       "range  68.080000  "
      ]
     },
     "execution_count": 164,
     "metadata": {},
     "output_type": "execute_result"
    }
   ],
   "source": [
    "df_non_ordinal = df.drop([\"waterfront\",\"grade\",\"condition\"], 1)\n",
    "stats(df_non_ordinal)"
   ]
  },
  {
   "cell_type": "markdown",
   "metadata": {},
   "source": [
    "## 0 d:"
   ]
  },
  {
   "cell_type": "markdown",
   "metadata": {},
   "source": [
    "Based on the meaning of the features as well as the statistics observed in [Correlation matrix](#correlation-matrix), the following features seem to have greater significance<br/>\n",
    "**'bedrooms', 'bathrooms', 'sqft_living', 'floors', 'waterfront', 'view','grade', 'sqft_above', 'sqft_basement', 'lat', 'sqft_living15'**<br/>\n",
    "Additionally, we can use the **zipcode** feature which can give us information if the location of the house affects the price of the house."
   ]
  },
  {
   "cell_type": "code",
   "execution_count": 205,
   "metadata": {},
   "outputs": [
    {
     "data": {
      "text/plain": [
       "Text(0, 0.5, 'price')"
      ]
     },
     "execution_count": 205,
     "metadata": {},
     "output_type": "execute_result"
    },
    {
     "data": {
      "image/png": "[encoded data removed]",
      "text/plain": [
       "<Figure size 1440x720 with 1 Axes>"
      ]
     },
     "metadata": {
      "needs_background": "light"
     },
     "output_type": "display_data"
    }
   ],
   "source": [
    "plt.rcParams[\"figure.figsize\"] = [20,10]\n",
    "plt.bar(df_original[\"zipcode\"], df_original[\"price\"])\n",
    "plt.xlabel(\"zipcode\")\n",
    "plt.ylabel(\"price\")"
   ]
  },
  {
   "cell_type": "markdown",
   "metadata": {},
   "source": [
    "From the `above figure`, we can observe that the price of houses are high for certain zipcodes."
   ]
  },
  {
   "cell_type": "markdown",
   "metadata": {},
   "source": [
    "`Few examples of high correlation features`"
   ]
  },
  {
   "cell_type": "markdown",
   "metadata": {},
   "source": [
    "## bedrooms"
   ]
  },
  {
   "cell_type": "code",
   "execution_count": 166,
   "metadata": {},
   "outputs": [
    {
     "data": {
      "text/plain": [
       "<BarContainer object of 10000 artists>"
      ]
     },
     "execution_count": 166,
     "metadata": {},
     "output_type": "execute_result"
    },
    {
     "data": {
      "image/png": "[encoded data removed]",
      "text/plain": [
       "<Figure size 360x360 with 1 Axes>"
      ]
     },
     "metadata": {
      "needs_background": "light"
     },
     "output_type": "display_data"
    }
   ],
   "source": [
    "plt.rcParams[\"figure.figsize\"] = [5,5]\n",
    "plt.bar(df_original[\"bedrooms\"], df_original[\"price\"])"
   ]
  },
  {
   "cell_type": "markdown",
   "metadata": {},
   "source": [
    "## bathrooms"
   ]
  },
  {
   "cell_type": "code",
   "execution_count": 167,
   "metadata": {},
   "outputs": [
    {
     "data": {
      "text/plain": [
       "<matplotlib.collections.PathCollection at 0x17bcce4e0>"
      ]
     },
     "execution_count": 167,
     "metadata": {},
     "output_type": "execute_result"
    },
    {
     "data": {
      "image/png": "[encoded data removed]",
      "text/plain": [
       "<Figure size 360x360 with 1 Axes>"
      ]
     },
     "metadata": {
      "needs_background": "light"
     },
     "output_type": "display_data"
    }
   ],
   "source": [
    "plt.scatter(df_original[\"bathrooms\"], df_original[\"price\"])"
   ]
  },
  {
   "cell_type": "markdown",
   "metadata": {},
   "source": [
    "## floors"
   ]
  },
  {
   "cell_type": "code",
   "execution_count": 168,
   "metadata": {},
   "outputs": [
    {
     "data": {
      "text/plain": [
       "<BarContainer object of 10000 artists>"
      ]
     },
     "execution_count": 168,
     "metadata": {},
     "output_type": "execute_result"
    },
    {
     "data": {
      "image/png": "[encoded data removed]",
      "text/plain": [
       "<Figure size 360x360 with 1 Axes>"
      ]
     },
     "metadata": {
      "needs_background": "light"
     },
     "output_type": "display_data"
    }
   ],
   "source": [
    "plt.bar(df_original[\"floors\"], df_original[\"price\"])"
   ]
  },
  {
   "cell_type": "markdown",
   "metadata": {},
   "source": [
    "## view"
   ]
  },
  {
   "cell_type": "code",
   "execution_count": 169,
   "metadata": {},
   "outputs": [
    {
     "data": {
      "text/plain": [
       "<BarContainer object of 10000 artists>"
      ]
     },
     "execution_count": 169,
     "metadata": {},
     "output_type": "execute_result"
    },
    {
     "data": {
      "image/png": "[encoded data removed]",
      "text/plain": [
       "<Figure size 360x360 with 1 Axes>"
      ]
     },
     "metadata": {
      "needs_background": "light"
     },
     "output_type": "display_data"
    }
   ],
   "source": [
    "plt.bar(df_original[\"view\"], df_original[\"price\"])"
   ]
  },
  {
   "cell_type": "markdown",
   "metadata": {},
   "source": [
    "## 0 e:"
   ]
  },
  {
   "cell_type": "code",
   "execution_count": 170,
   "metadata": {},
   "outputs": [],
   "source": [
    "#selecting useful features\n",
    "df = df[['bedrooms', 'bathrooms', 'sqft_living', 'floors', 'waterfront', 'view',\n",
    "      'grade', 'sqft_above', 'sqft_basement', 'lat', 'sqft_living15']]"
   ]
  },
  {
   "cell_type": "code",
   "execution_count": 172,
   "metadata": {},
   "outputs": [],
   "source": [
    "#saving non_normalized data for future use\n",
    "non_normalized_df = df\n",
    "non_normalized_df[\"dummy\"] = df_original[\"dummy\"]"
   ]
  },
  {
   "cell_type": "code",
   "execution_count": 173,
   "metadata": {},
   "outputs": [
    {
     "data": {
      "text/html": [
       "<div>\n",
       "<style scoped>\n",
       "    .dataframe tbody tr th:only-of-type {\n",
       "        vertical-align: middle;\n",
       "    }\n",
       "\n",
       "    .dataframe tbody tr th {\n",
       "        vertical-align: top;\n",
       "    }\n",
       "\n",
       "    .dataframe thead th {\n",
       "        text-align: right;\n",
       "    }\n",
       "</style>\n",
       "<table border=\"1\" class=\"dataframe\">\n",
       "  <thead>\n",
       "    <tr style=\"text-align: right;\">\n",
       "      <th></th>\n",
       "      <th>bedrooms</th>\n",
       "      <th>bathrooms</th>\n",
       "      <th>sqft_living</th>\n",
       "      <th>floors</th>\n",
       "      <th>waterfront</th>\n",
       "      <th>view</th>\n",
       "      <th>grade</th>\n",
       "      <th>sqft_above</th>\n",
       "      <th>sqft_basement</th>\n",
       "      <th>lat</th>\n",
       "      <th>sqft_living15</th>\n",
       "      <th>dummy</th>\n",
       "    </tr>\n",
       "  </thead>\n",
       "  <tbody>\n",
       "    <tr>\n",
       "      <th>3726</th>\n",
       "      <td>0.09375</td>\n",
       "      <td>0.275862</td>\n",
       "      <td>0.288866</td>\n",
       "      <td>0.4</td>\n",
       "      <td>0.0</td>\n",
       "      <td>0.0</td>\n",
       "      <td>0.555556</td>\n",
       "      <td>0.323910</td>\n",
       "      <td>0.0</td>\n",
       "      <td>0.665916</td>\n",
       "      <td>0.299115</td>\n",
       "      <td>NaN</td>\n",
       "    </tr>\n",
       "    <tr>\n",
       "      <th>2291</th>\n",
       "      <td>0.09375</td>\n",
       "      <td>0.068966</td>\n",
       "      <td>0.193277</td>\n",
       "      <td>0.4</td>\n",
       "      <td>0.0</td>\n",
       "      <td>0.0</td>\n",
       "      <td>0.444444</td>\n",
       "      <td>0.216726</td>\n",
       "      <td>0.0</td>\n",
       "      <td>0.731221</td>\n",
       "      <td>0.226549</td>\n",
       "      <td>NaN</td>\n",
       "    </tr>\n",
       "    <tr>\n",
       "      <th>1317</th>\n",
       "      <td>0.03125</td>\n",
       "      <td>0.068966</td>\n",
       "      <td>0.056723</td>\n",
       "      <td>0.0</td>\n",
       "      <td>0.0</td>\n",
       "      <td>0.0</td>\n",
       "      <td>0.222222</td>\n",
       "      <td>0.063604</td>\n",
       "      <td>0.0</td>\n",
       "      <td>0.594177</td>\n",
       "      <td>0.176991</td>\n",
       "      <td>NaN</td>\n",
       "    </tr>\n",
       "    <tr>\n",
       "      <th>8435</th>\n",
       "      <td>0.03125</td>\n",
       "      <td>0.068966</td>\n",
       "      <td>0.044118</td>\n",
       "      <td>0.0</td>\n",
       "      <td>0.0</td>\n",
       "      <td>0.0</td>\n",
       "      <td>0.222222</td>\n",
       "      <td>0.049470</td>\n",
       "      <td>0.0</td>\n",
       "      <td>0.978768</td>\n",
       "      <td>0.267257</td>\n",
       "      <td>NaN</td>\n",
       "    </tr>\n",
       "    <tr>\n",
       "      <th>6087</th>\n",
       "      <td>0.09375</td>\n",
       "      <td>0.275862</td>\n",
       "      <td>0.151261</td>\n",
       "      <td>0.4</td>\n",
       "      <td>0.0</td>\n",
       "      <td>0.0</td>\n",
       "      <td>0.333333</td>\n",
       "      <td>0.169611</td>\n",
       "      <td>0.0</td>\n",
       "      <td>0.317195</td>\n",
       "      <td>0.230088</td>\n",
       "      <td>NaN</td>\n",
       "    </tr>\n",
       "  </tbody>\n",
       "</table>\n",
       "</div>"
      ],
      "text/plain": [
       "      bedrooms  bathrooms  sqft_living  floors  waterfront  view     grade  \\\n",
       "3726   0.09375   0.275862     0.288866     0.4         0.0   0.0  0.555556   \n",
       "2291   0.09375   0.068966     0.193277     0.4         0.0   0.0  0.444444   \n",
       "1317   0.03125   0.068966     0.056723     0.0         0.0   0.0  0.222222   \n",
       "8435   0.03125   0.068966     0.044118     0.0         0.0   0.0  0.222222   \n",
       "6087   0.09375   0.275862     0.151261     0.4         0.0   0.0  0.333333   \n",
       "\n",
       "      sqft_above  sqft_basement       lat  sqft_living15  dummy  \n",
       "3726    0.323910            0.0  0.665916       0.299115    NaN  \n",
       "2291    0.216726            0.0  0.731221       0.226549    NaN  \n",
       "1317    0.063604            0.0  0.594177       0.176991    NaN  \n",
       "8435    0.049470            0.0  0.978768       0.267257    NaN  \n",
       "6087    0.169611            0.0  0.317195       0.230088    NaN  "
      ]
     },
     "execution_count": 173,
     "metadata": {},
     "output_type": "execute_result"
    }
   ],
   "source": [
    "#normalizing dataframe\n",
    "df = (df - df.min()) / (df.max() - df.min())\n",
    "df.sample(5)"
   ]
  },
  {
   "cell_type": "code",
   "execution_count": 174,
   "metadata": {},
   "outputs": [],
   "source": [
    "#adding dummy back to df\n",
    "df[\"dummy\"] = df_original[\"dummy\"]"
   ]
  },
  {
   "cell_type": "markdown",
   "metadata": {},
   "source": [
    "## result"
   ]
  },
  {
   "cell_type": "code",
   "execution_count": 175,
   "metadata": {},
   "outputs": [
    {
     "data": {
      "text/html": [
       "<div>\n",
       "<style scoped>\n",
       "    .dataframe tbody tr th:only-of-type {\n",
       "        vertical-align: middle;\n",
       "    }\n",
       "\n",
       "    .dataframe tbody tr th {\n",
       "        vertical-align: top;\n",
       "    }\n",
       "\n",
       "    .dataframe thead th {\n",
       "        text-align: right;\n",
       "    }\n",
       "</style>\n",
       "<table border=\"1\" class=\"dataframe\">\n",
       "  <thead>\n",
       "    <tr style=\"text-align: right;\">\n",
       "      <th></th>\n",
       "      <th>bedrooms</th>\n",
       "      <th>bathrooms</th>\n",
       "      <th>sqft_living</th>\n",
       "      <th>floors</th>\n",
       "      <th>waterfront</th>\n",
       "      <th>view</th>\n",
       "      <th>grade</th>\n",
       "      <th>sqft_above</th>\n",
       "      <th>sqft_basement</th>\n",
       "      <th>lat</th>\n",
       "      <th>sqft_living15</th>\n",
       "      <th>dummy</th>\n",
       "    </tr>\n",
       "  </thead>\n",
       "  <tbody>\n",
       "    <tr>\n",
       "      <th>9857</th>\n",
       "      <td>0.12500</td>\n",
       "      <td>0.241379</td>\n",
       "      <td>0.272059</td>\n",
       "      <td>0.0</td>\n",
       "      <td>0.0</td>\n",
       "      <td>0.5</td>\n",
       "      <td>0.444444</td>\n",
       "      <td>0.138987</td>\n",
       "      <td>0.518382</td>\n",
       "      <td>0.787679</td>\n",
       "      <td>0.424779</td>\n",
       "      <td>1</td>\n",
       "    </tr>\n",
       "    <tr>\n",
       "      <th>8313</th>\n",
       "      <td>0.06250</td>\n",
       "      <td>0.206897</td>\n",
       "      <td>0.121849</td>\n",
       "      <td>0.0</td>\n",
       "      <td>0.0</td>\n",
       "      <td>0.0</td>\n",
       "      <td>0.333333</td>\n",
       "      <td>0.136631</td>\n",
       "      <td>0.000000</td>\n",
       "      <td>0.227602</td>\n",
       "      <td>0.228319</td>\n",
       "      <td>1</td>\n",
       "    </tr>\n",
       "    <tr>\n",
       "      <th>9823</th>\n",
       "      <td>0.09375</td>\n",
       "      <td>0.241379</td>\n",
       "      <td>0.161765</td>\n",
       "      <td>0.0</td>\n",
       "      <td>0.0</td>\n",
       "      <td>0.0</td>\n",
       "      <td>0.444444</td>\n",
       "      <td>0.107185</td>\n",
       "      <td>0.231618</td>\n",
       "      <td>0.916841</td>\n",
       "      <td>0.247788</td>\n",
       "      <td>1</td>\n",
       "    </tr>\n",
       "    <tr>\n",
       "      <th>9169</th>\n",
       "      <td>0.06250</td>\n",
       "      <td>0.344828</td>\n",
       "      <td>0.105042</td>\n",
       "      <td>0.8</td>\n",
       "      <td>0.0</td>\n",
       "      <td>0.0</td>\n",
       "      <td>0.444444</td>\n",
       "      <td>0.117786</td>\n",
       "      <td>0.000000</td>\n",
       "      <td>0.923757</td>\n",
       "      <td>0.166195</td>\n",
       "      <td>1</td>\n",
       "    </tr>\n",
       "    <tr>\n",
       "      <th>351</th>\n",
       "      <td>0.09375</td>\n",
       "      <td>0.275862</td>\n",
       "      <td>0.181723</td>\n",
       "      <td>0.8</td>\n",
       "      <td>0.0</td>\n",
       "      <td>0.0</td>\n",
       "      <td>0.444444</td>\n",
       "      <td>0.142521</td>\n",
       "      <td>0.191176</td>\n",
       "      <td>0.702751</td>\n",
       "      <td>0.182301</td>\n",
       "      <td>1</td>\n",
       "    </tr>\n",
       "  </tbody>\n",
       "</table>\n",
       "</div>"
      ],
      "text/plain": [
       "      bedrooms  bathrooms  sqft_living  floors  waterfront  view     grade  \\\n",
       "9857   0.12500   0.241379     0.272059     0.0         0.0   0.5  0.444444   \n",
       "8313   0.06250   0.206897     0.121849     0.0         0.0   0.0  0.333333   \n",
       "9823   0.09375   0.241379     0.161765     0.0         0.0   0.0  0.444444   \n",
       "9169   0.06250   0.344828     0.105042     0.8         0.0   0.0  0.444444   \n",
       "351    0.09375   0.275862     0.181723     0.8         0.0   0.0  0.444444   \n",
       "\n",
       "      sqft_above  sqft_basement       lat  sqft_living15  dummy  \n",
       "9857    0.138987       0.518382  0.787679       0.424779      1  \n",
       "8313    0.136631       0.000000  0.227602       0.228319      1  \n",
       "9823    0.107185       0.231618  0.916841       0.247788      1  \n",
       "9169    0.117786       0.000000  0.923757       0.166195      1  \n",
       "351     0.142521       0.191176  0.702751       0.182301      1  "
      ]
     },
     "execution_count": 175,
     "metadata": {},
     "output_type": "execute_result"
    }
   ],
   "source": [
    "df.sample(5)"
   ]
  },
  {
   "cell_type": "markdown",
   "metadata": {},
   "source": [
    "# Part 1"
   ]
  },
  {
   "cell_type": "markdown",
   "metadata": {},
   "source": [
    "## 1 a:"
   ]
  },
  {
   "cell_type": "markdown",
   "metadata": {},
   "source": [
    "**10^−4, 10^−5, 10^−6, 10^−7** learning rates are good for this particular dataset.<br/>\n",
    "**10^0, 10^−1, 10^−2, 10^−3** make the gradient descent explode."
   ]
  },
  {
   "cell_type": "code",
   "execution_count": 176,
   "metadata": {},
   "outputs": [],
   "source": [
    "#helper functions\n",
    "all_info = {}\n",
    "def check_explode(norm):\n",
    "    does_explode = True\n",
    "    for i in range(1,len(norm)-1):\n",
    "        if norm[i]<norm[i-1]:\n",
    "            does_explode = False\n",
    "    return does_explode\n",
    "\n",
    "def calculate_weights_and_sse(learning_rate,max_iteration,check_iter_for_explode, df=df, all_info = all_info):\n",
    "    weight = np.array(np.random.randn(1,12)[0])\n",
    "    number_of_iteration = 0\n",
    "    sse_for_each_iter = [] \n",
    "    norm_for_this_lr = []\n",
    "    while True:\n",
    "        diff_in_y = df.dot(weight)-y_train\n",
    "        gradient = (np.transpose(df)).dot(diff_in_y)\n",
    "        weight = weight - learning_rate*gradient\n",
    "        sse = (np.transpose(diff_in_y)).dot(diff_in_y)\n",
    "        norm_for_gradient = math.sqrt(gradient.dot(gradient))\n",
    "        #print('number of iteration',number_of_iteration,norm_for_gradient,'   sse =',sse)\n",
    "        sse_for_each_iter.append(sse)\n",
    "        norm_for_this_lr.append(norm_for_gradient)\n",
    "        number_of_iteration = number_of_iteration + 1\n",
    "        if(norm_for_gradient<=0.5): \n",
    "            all_info[learning_rate] = {\"whether converged\":True,\n",
    "                               \"weights\":weight,\n",
    "                               \"sse_for_each_iteration\":sse_for_each_iter,\n",
    "                               \"number_of_iteration_used\":number_of_iteration\n",
    "                              }\n",
    "            #print(\"########################\")\n",
    "            #print(\"number of itertion used for learning_rate =\",learning_rate , \" is \",number_of_iteration , 'and sse is ' ,sse)\n",
    "            #print(\"########################\")\n",
    "            break\n",
    "        if(number_of_iteration == check_iter_for_explode and check_explode(norm_for_this_lr)):\n",
    "            \n",
    "            #print('Gradient explodes for learning_rate =',learning_rate)\n",
    "            all_info[learning_rate] = {\"whether converged\":False,\n",
    "                               \"weights\":np.array(np.zeros(12)),\n",
    "                               \"sse_for_each_iteration\":np.array([-1]*12),\n",
    "                               \"number_of_iteration_used\":number_of_iteration\n",
    "                              }\n",
    "            break  \n",
    "        if(number_of_iteration==max_iteration):\n",
    "    \n",
    "            all_info[learning_rate] = {\"whether converged\":True,\n",
    "                               \"weights\":weight,\n",
    "                               \"sse_for_each_iteration\":sse_for_each_iter,\n",
    "                               \"number_of_iteration_used\":number_of_iteration\n",
    "                              }\n",
    "            #print(\"converges but takes too many iterations  for lambda =\",learning_rate)\n",
    "            break \n",
    "        #if (number_of_iteration%5000)==0:\n",
    "            #print('number of iteration',number_of_iteration,norm_for_gradient,sse)\n",
    "    #print('checked for learning rate = ',learning_rate,\" now returning\")\n",
    "    return"
   ]
  },
  {
   "cell_type": "code",
   "execution_count": null,
   "metadata": {},
   "outputs": [],
   "source": [
    "#Calculating weights and SSE\n",
    "y_train = df_original[\"price\"]\n",
    "lr = [1,0.1,0.01,0.001,0.0001]\n",
    "for x in lr:\n",
    "    print('doing everything for learning rate = ',x)\n",
    "    calculate_weights_and_sse(x,200000,40)"
   ]
  },
  {
   "cell_type": "markdown",
   "metadata": {},
   "source": [
    "## non converging SSE for learning rate 1"
   ]
  },
  {
   "cell_type": "code",
   "execution_count": 178,
   "metadata": {},
   "outputs": [
    {
     "data": {
      "text/plain": [
       "<matplotlib.axes._subplots.AxesSubplot at 0x181ef8160>"
      ]
     },
     "execution_count": 178,
     "metadata": {},
     "output_type": "execute_result"
    },
    {
     "data": {
      "image/png": "[encoded data removed]",
      "text/plain": [
       "<Figure size 1440x792 with 1 Axes>"
      ]
     },
     "metadata": {
      "needs_background": "light"
     },
     "output_type": "display_data"
    }
   ],
   "source": [
    "y=all_info[1]['sse_for_each_iteration']\n",
    "iteration = np.array([x for x in range(1,len(y)+1)])\n",
    "data = pd.DataFrame({'iteration':iteration ,'sse':np.array(y)})\n",
    "\n",
    "a4_dims = (20, 11)\n",
    "fig, ax = plt.subplots(figsize=a4_dims)\n",
    "sns.lineplot(ax=ax,x='iteration',y='sse',data=data,palette=\"husl\")"
   ]
  },
  {
   "cell_type": "markdown",
   "metadata": {},
   "source": [
    "## converging SSE for learning rate 10^-4"
   ]
  },
  {
   "cell_type": "code",
   "execution_count": 179,
   "metadata": {},
   "outputs": [
    {
     "data": {
      "text/plain": [
       "<matplotlib.axes._subplots.AxesSubplot at 0x187d34940>"
      ]
     },
     "execution_count": 179,
     "metadata": {},
     "output_type": "execute_result"
    },
    {
     "data": {
      "image/png": "[encoded data removed]",
      "text/plain": [
       "<Figure size 1440x792 with 1 Axes>"
      ]
     },
     "metadata": {
      "needs_background": "light"
     },
     "output_type": "display_data"
    }
   ],
   "source": [
    "y=all_info[0.0001]['sse_for_each_iteration']\n",
    "iteration = np.array([x for x in range(1,len(y)+1)])\n",
    "data = pd.DataFrame({'iteration':iteration ,'sse':np.array(y)})\n",
    "\n",
    "a4_dims = (20, 11)\n",
    "fig, ax = plt.subplots(figsize=a4_dims)\n",
    "sns.lineplot(ax=ax,x='iteration',y='sse',data=data,palette=\"Set1\")"
   ]
  },
  {
   "cell_type": "markdown",
   "metadata": {},
   "source": [
    "## 1 b:"
   ]
  },
  {
   "cell_type": "code",
   "execution_count": 180,
   "metadata": {},
   "outputs": [
    {
     "data": {
      "text/html": [
       "<div>\n",
       "<style scoped>\n",
       "    .dataframe tbody tr th:only-of-type {\n",
       "        vertical-align: middle;\n",
       "    }\n",
       "\n",
       "    .dataframe tbody tr th {\n",
       "        vertical-align: top;\n",
       "    }\n",
       "\n",
       "    .dataframe thead th {\n",
       "        text-align: right;\n",
       "    }\n",
       "</style>\n",
       "<table border=\"1\" class=\"dataframe\">\n",
       "  <thead>\n",
       "    <tr style=\"text-align: right;\">\n",
       "      <th></th>\n",
       "      <th>Learning rate</th>\n",
       "      <th>Training SSE</th>\n",
       "      <th>Training Iterations</th>\n",
       "      <th>Validation SSE</th>\n",
       "    </tr>\n",
       "  </thead>\n",
       "  <tbody>\n",
       "    <tr>\n",
       "      <th>0</th>\n",
       "      <td>1.000000e-04</td>\n",
       "      <td>44811.77452</td>\n",
       "      <td>7985</td>\n",
       "      <td>42092.23353</td>\n",
       "    </tr>\n",
       "    <tr>\n",
       "      <th>1</th>\n",
       "      <td>1.000000e-05</td>\n",
       "      <td>44811.77454</td>\n",
       "      <td>82774</td>\n",
       "      <td>42392.65437</td>\n",
       "    </tr>\n",
       "    <tr>\n",
       "      <th>2</th>\n",
       "      <td>1.000000e-06</td>\n",
       "      <td>44848.30682</td>\n",
       "      <td>200000</td>\n",
       "      <td>31865.83941</td>\n",
       "    </tr>\n",
       "    <tr>\n",
       "      <th>3</th>\n",
       "      <td>1.000000e-07</td>\n",
       "      <td>45671.85670</td>\n",
       "      <td>200000</td>\n",
       "      <td>26098.74267</td>\n",
       "    </tr>\n",
       "  </tbody>\n",
       "</table>\n",
       "</div>"
      ],
      "text/plain": [
       "   Learning rate  Training SSE  Training Iterations  Validation SSE\n",
       "0   1.000000e-04   44811.77452                 7985     42092.23353\n",
       "1   1.000000e-05   44811.77454                82774     42392.65437\n",
       "2   1.000000e-06   44848.30682               200000     31865.83941\n",
       "3   1.000000e-07   45671.85670               200000     26098.74267"
      ]
     },
     "execution_count": 180,
     "metadata": {},
     "output_type": "execute_result"
    }
   ],
   "source": [
    "sse_comparison = pd.read_csv(\"ml1b.csv\")\n",
    "sse_comparison"
   ]
  },
  {
   "cell_type": "markdown",
   "metadata": {},
   "source": [
    "## plot of learning rate vs SSE for training"
   ]
  },
  {
   "cell_type": "code",
   "execution_count": 207,
   "metadata": {},
   "outputs": [
    {
     "data": {
      "text/plain": [
       "Text(0, 0.5, 'Training SSE')"
      ]
     },
     "execution_count": 207,
     "metadata": {},
     "output_type": "execute_result"
    },
    {
     "data": {
      "image/png": "[encoded data removed]",
      "text/plain": [
       "<Figure size 360x360 with 1 Axes>"
      ]
     },
     "metadata": {
      "needs_background": "light"
     },
     "output_type": "display_data"
    }
   ],
   "source": [
    "plt.rcParams[\"figure.figsize\"] = [5,5]\n",
    "plt.plot(sse_comparison[\"Learning rate\"], sse_comparison[\"Training SSE\"])\n",
    "plt.xlabel(\"Learning rate\")\n",
    "plt.ylabel(\"Training SSE\")"
   ]
  },
  {
   "cell_type": "markdown",
   "metadata": {},
   "source": [
    "## plot of learning rate vs SSE for validation"
   ]
  },
  {
   "cell_type": "code",
   "execution_count": 208,
   "metadata": {},
   "outputs": [
    {
     "data": {
      "text/plain": [
       "Text(0, 0.5, 'Validation SSE')"
      ]
     },
     "execution_count": 208,
     "metadata": {},
     "output_type": "execute_result"
    },
    {
     "data": {
      "image/png": "[encoded data removed]",
      "text/plain": [
       "<Figure size 360x360 with 1 Axes>"
      ]
     },
     "metadata": {
      "needs_background": "light"
     },
     "output_type": "display_data"
    }
   ],
   "source": [
    "plt.rcParams[\"figure.figsize\"] = [5,5]\n",
    "plt.plot(sse_comparison[\"Learning rate\"], sse_comparison[\"Validation SSE\"])\n",
    "plt.xlabel(\"Learning rate\")\n",
    "plt.ylabel(\"Validation SSE\")"
   ]
  },
  {
   "cell_type": "markdown",
   "metadata": {},
   "source": [
    "For learning rates 10^-4 and 10^-5 the model converged, but for learning rates 10^-6 and 10^-7 was converging slowly so we considered weights after 200000 iterations. The SSE for 10^-7 was minimum for validation data. Hence we choose **10^-7** as ideal learning rate. "
   ]
  },
  {
   "cell_type": "markdown",
   "metadata": {},
   "source": [
    "## 1 c:"
   ]
  },
  {
   "cell_type": "markdown",
   "metadata": {},
   "source": [
    "## ideal weight vector"
   ]
  },
  {
   "cell_type": "code",
   "execution_count": 183,
   "metadata": {},
   "outputs": [
    {
     "data": {
      "text/html": [
       "<div>\n",
       "<style scoped>\n",
       "    .dataframe tbody tr th:only-of-type {\n",
       "        vertical-align: middle;\n",
       "    }\n",
       "\n",
       "    .dataframe tbody tr th {\n",
       "        vertical-align: top;\n",
       "    }\n",
       "\n",
       "    .dataframe thead th {\n",
       "        text-align: right;\n",
       "    }\n",
       "</style>\n",
       "<table border=\"1\" class=\"dataframe\">\n",
       "  <thead>\n",
       "    <tr style=\"text-align: right;\">\n",
       "      <th></th>\n",
       "      <th>Unnamed: 0</th>\n",
       "      <th>Unnamed: 1</th>\n",
       "    </tr>\n",
       "  </thead>\n",
       "  <tbody>\n",
       "    <tr>\n",
       "      <th>0</th>\n",
       "      <td>weight</td>\n",
       "      <td>feature</td>\n",
       "    </tr>\n",
       "    <tr>\n",
       "      <th>1</th>\n",
       "      <td>-0.00301654808</td>\n",
       "      <td>bedrooms</td>\n",
       "    </tr>\n",
       "    <tr>\n",
       "      <th>2</th>\n",
       "      <td>1.043001265</td>\n",
       "      <td>bathrooms</td>\n",
       "    </tr>\n",
       "    <tr>\n",
       "      <th>3</th>\n",
       "      <td>5.849090878</td>\n",
       "      <td>sqft_living</td>\n",
       "    </tr>\n",
       "    <tr>\n",
       "      <th>4</th>\n",
       "      <td>-0.4348848174</td>\n",
       "      <td>floors</td>\n",
       "    </tr>\n",
       "    <tr>\n",
       "      <th>5</th>\n",
       "      <td>3.202633604</td>\n",
       "      <td>waterfront</td>\n",
       "    </tr>\n",
       "    <tr>\n",
       "      <th>6</th>\n",
       "      <td>3.384332146</td>\n",
       "      <td>view</td>\n",
       "    </tr>\n",
       "    <tr>\n",
       "      <th>7</th>\n",
       "      <td>7.468285264</td>\n",
       "      <td>grade</td>\n",
       "    </tr>\n",
       "    <tr>\n",
       "      <th>8</th>\n",
       "      <td>5.328632759</td>\n",
       "      <td>sqft_above</td>\n",
       "    </tr>\n",
       "    <tr>\n",
       "      <th>9</th>\n",
       "      <td>2.05764414</td>\n",
       "      <td>sqft_basement</td>\n",
       "    </tr>\n",
       "    <tr>\n",
       "      <th>10</th>\n",
       "      <td>4.192429541</td>\n",
       "      <td>lat</td>\n",
       "    </tr>\n",
       "    <tr>\n",
       "      <th>11</th>\n",
       "      <td>2.40952644</td>\n",
       "      <td>sqft_living15</td>\n",
       "    </tr>\n",
       "    <tr>\n",
       "      <th>12</th>\n",
       "      <td>-3.562621613</td>\n",
       "      <td>dummy</td>\n",
       "    </tr>\n",
       "  </tbody>\n",
       "</table>\n",
       "</div>"
      ],
      "text/plain": [
       "        Unnamed: 0     Unnamed: 1\n",
       "0           weight        feature\n",
       "1   -0.00301654808       bedrooms\n",
       "2      1.043001265      bathrooms\n",
       "3      5.849090878    sqft_living\n",
       "4    -0.4348848174         floors\n",
       "5      3.202633604     waterfront\n",
       "6      3.384332146           view\n",
       "7      7.468285264          grade\n",
       "8      5.328632759     sqft_above\n",
       "9       2.05764414  sqft_basement\n",
       "10     4.192429541            lat\n",
       "11      2.40952644  sqft_living15\n",
       "12    -3.562621613          dummy"
      ]
     },
     "execution_count": 183,
     "metadata": {},
     "output_type": "execute_result"
    }
   ],
   "source": [
    "ideal_weight_vector = pd.read_csv(\"weight_1e-07.csv\")\n",
    "ideal_weight_vector"
   ]
  },
  {
   "cell_type": "markdown",
   "metadata": {},
   "source": [
    "## Observation"
   ]
  },
  {
   "cell_type": "markdown",
   "metadata": {},
   "source": [
    "According to our observation the feature **grade** is most significant. The feature **sqft_living** and **sqft_above** are the next important features. This aligns with our previous results except for **bedrooms** where the actual importance was much lesser than we previously estimated"
   ]
  },
  {
   "cell_type": "markdown",
   "metadata": {},
   "source": [
    "# Part 3"
   ]
  },
  {
   "cell_type": "markdown",
   "metadata": {},
   "source": [
    "## Non normalized data"
   ]
  },
  {
   "cell_type": "code",
   "execution_count": 184,
   "metadata": {},
   "outputs": [
    {
     "data": {
      "text/html": [
       "<div>\n",
       "<style scoped>\n",
       "    .dataframe tbody tr th:only-of-type {\n",
       "        vertical-align: middle;\n",
       "    }\n",
       "\n",
       "    .dataframe tbody tr th {\n",
       "        vertical-align: top;\n",
       "    }\n",
       "\n",
       "    .dataframe thead th {\n",
       "        text-align: right;\n",
       "    }\n",
       "</style>\n",
       "<table border=\"1\" class=\"dataframe\">\n",
       "  <thead>\n",
       "    <tr style=\"text-align: right;\">\n",
       "      <th></th>\n",
       "      <th>bedrooms</th>\n",
       "      <th>bathrooms</th>\n",
       "      <th>sqft_living</th>\n",
       "      <th>floors</th>\n",
       "      <th>waterfront</th>\n",
       "      <th>view</th>\n",
       "      <th>grade</th>\n",
       "      <th>sqft_above</th>\n",
       "      <th>sqft_basement</th>\n",
       "      <th>lat</th>\n",
       "      <th>sqft_living15</th>\n",
       "      <th>dummy</th>\n",
       "    </tr>\n",
       "  </thead>\n",
       "  <tbody>\n",
       "    <tr>\n",
       "      <th>1889</th>\n",
       "      <td>3</td>\n",
       "      <td>2.00</td>\n",
       "      <td>1660</td>\n",
       "      <td>1.0</td>\n",
       "      <td>0</td>\n",
       "      <td>0</td>\n",
       "      <td>7</td>\n",
       "      <td>1010</td>\n",
       "      <td>650</td>\n",
       "      <td>47.3298</td>\n",
       "      <td>1660</td>\n",
       "      <td>1</td>\n",
       "    </tr>\n",
       "    <tr>\n",
       "      <th>4437</th>\n",
       "      <td>4</td>\n",
       "      <td>2.50</td>\n",
       "      <td>2230</td>\n",
       "      <td>1.0</td>\n",
       "      <td>0</td>\n",
       "      <td>0</td>\n",
       "      <td>7</td>\n",
       "      <td>1650</td>\n",
       "      <td>580</td>\n",
       "      <td>47.4799</td>\n",
       "      <td>2090</td>\n",
       "      <td>1</td>\n",
       "    </tr>\n",
       "    <tr>\n",
       "      <th>5398</th>\n",
       "      <td>4</td>\n",
       "      <td>2.50</td>\n",
       "      <td>3070</td>\n",
       "      <td>2.0</td>\n",
       "      <td>0</td>\n",
       "      <td>0</td>\n",
       "      <td>8</td>\n",
       "      <td>3070</td>\n",
       "      <td>0</td>\n",
       "      <td>47.4899</td>\n",
       "      <td>2590</td>\n",
       "      <td>1</td>\n",
       "    </tr>\n",
       "    <tr>\n",
       "      <th>6193</th>\n",
       "      <td>4</td>\n",
       "      <td>3.75</td>\n",
       "      <td>3490</td>\n",
       "      <td>2.0</td>\n",
       "      <td>0</td>\n",
       "      <td>0</td>\n",
       "      <td>9</td>\n",
       "      <td>3490</td>\n",
       "      <td>0</td>\n",
       "      <td>47.5991</td>\n",
       "      <td>1810</td>\n",
       "      <td>1</td>\n",
       "    </tr>\n",
       "    <tr>\n",
       "      <th>5917</th>\n",
       "      <td>3</td>\n",
       "      <td>1.75</td>\n",
       "      <td>2270</td>\n",
       "      <td>2.0</td>\n",
       "      <td>0</td>\n",
       "      <td>0</td>\n",
       "      <td>8</td>\n",
       "      <td>2270</td>\n",
       "      <td>0</td>\n",
       "      <td>47.5350</td>\n",
       "      <td>2260</td>\n",
       "      <td>1</td>\n",
       "    </tr>\n",
       "  </tbody>\n",
       "</table>\n",
       "</div>"
      ],
      "text/plain": [
       "      bedrooms  bathrooms  sqft_living  floors  waterfront  view  grade  \\\n",
       "1889         3       2.00         1660     1.0           0     0      7   \n",
       "4437         4       2.50         2230     1.0           0     0      7   \n",
       "5398         4       2.50         3070     2.0           0     0      8   \n",
       "6193         4       3.75         3490     2.0           0     0      9   \n",
       "5917         3       1.75         2270     2.0           0     0      8   \n",
       "\n",
       "      sqft_above  sqft_basement      lat  sqft_living15  dummy  \n",
       "1889        1010            650  47.3298           1660      1  \n",
       "4437        1650            580  47.4799           2090      1  \n",
       "5398        3070              0  47.4899           2590      1  \n",
       "6193        3490              0  47.5991           1810      1  \n",
       "5917        2270              0  47.5350           2260      1  "
      ]
     },
     "execution_count": 184,
     "metadata": {},
     "output_type": "execute_result"
    }
   ],
   "source": [
    "non_normalized_df.sample(5)"
   ]
  },
  {
   "cell_type": "markdown",
   "metadata": {},
   "source": [
    "## Training model"
   ]
  },
  {
   "cell_type": "code",
   "execution_count": 193,
   "metadata": {},
   "outputs": [],
   "source": [
    "all_not_normalized_info = {}\n",
    "lr = [1, 0 , 0.001, 0.000001, 0.000000001, 0.000000000000001]\n",
    "for x in lr:\n",
    "    calculate_weights_and_sse(x,10000,40, non_normalized_df, all_not_normalized_info)"
   ]
  },
  {
   "cell_type": "markdown",
   "metadata": {},
   "source": [
    "## SSE for learning rate 0.001"
   ]
  },
  {
   "cell_type": "code",
   "execution_count": 194,
   "metadata": {},
   "outputs": [
    {
     "data": {
      "text/plain": [
       "<matplotlib.axes._subplots.AxesSubplot at 0x188230588>"
      ]
     },
     "execution_count": 194,
     "metadata": {},
     "output_type": "execute_result"
    },
    {
     "data": {
      "image/png": "[encoded data removed]",
      "text/plain": [
       "<Figure size 1440x792 with 1 Axes>"
      ]
     },
     "metadata": {
      "needs_background": "light"
     },
     "output_type": "display_data"
    }
   ],
   "source": [
    "y=all_not_normalized_info[0.001]['sse_for_each_iteration']\n",
    "iteration = np.array([x for x in range(1,len(y)+1)])\n",
    "data = pd.DataFrame({'iteration':iteration ,'sse':np.array(y)})\n",
    "\n",
    "a4_dims = (20, 11)\n",
    "fig, ax = plt.subplots(figsize=a4_dims)\n",
    "sns.lineplot(ax=ax,x='iteration',y='sse',data=data,palette=\"husl\")"
   ]
  },
  {
   "cell_type": "markdown",
   "metadata": {},
   "source": [
    "## SSE for learning rate 0"
   ]
  },
  {
   "cell_type": "markdown",
   "metadata": {},
   "source": [
    "For learning rate of 0, the weights will not change and the model will never converge unless the radomized weights are correctly predicted"
   ]
  },
  {
   "cell_type": "markdown",
   "metadata": {},
   "source": [
    "## SSE for learning rate 1"
   ]
  },
  {
   "cell_type": "code",
   "execution_count": 196,
   "metadata": {},
   "outputs": [
    {
     "data": {
      "text/plain": [
       "<matplotlib.axes._subplots.AxesSubplot at 0x188640f98>"
      ]
     },
     "execution_count": 196,
     "metadata": {},
     "output_type": "execute_result"
    },
    {
     "data": {
      "image/png": "[encoded data removed]",
      "text/plain": [
       "<Figure size 1440x792 with 1 Axes>"
      ]
     },
     "metadata": {
      "needs_background": "light"
     },
     "output_type": "display_data"
    }
   ],
   "source": [
    "y=all_not_normalized_info[1]['sse_for_each_iteration']\n",
    "iteration = np.array([x for x in range(1,len(y)+1)])\n",
    "data = pd.DataFrame({'iteration':iteration ,'sse':np.array(y)})\n",
    "\n",
    "a4_dims = (20, 11)\n",
    "fig, ax = plt.subplots(figsize=a4_dims)\n",
    "sns.lineplot(ax=ax,x='iteration',y='sse',data=data,palette=\"husl\")"
   ]
  },
  {
   "cell_type": "markdown",
   "metadata": {},
   "source": [
    "## SSE for learning rate 0.000001"
   ]
  },
  {
   "cell_type": "code",
   "execution_count": 197,
   "metadata": {},
   "outputs": [
    {
     "data": {
      "text/plain": [
       "<matplotlib.axes._subplots.AxesSubplot at 0x1886998d0>"
      ]
     },
     "execution_count": 197,
     "metadata": {},
     "output_type": "execute_result"
    },
    {
     "data": {
      "image/png": "[encoded data removed]",
      "text/plain": [
       "<Figure size 1440x792 with 1 Axes>"
      ]
     },
     "metadata": {
      "needs_background": "light"
     },
     "output_type": "display_data"
    }
   ],
   "source": [
    "y=all_not_normalized_info[0.000001]['sse_for_each_iteration']\n",
    "iteration = np.array([x for x in range(1,len(y)+1)])\n",
    "data = pd.DataFrame({'iteration':iteration ,'sse':np.array(y)})\n",
    "\n",
    "a4_dims = (20, 11)\n",
    "fig, ax = plt.subplots(figsize=a4_dims)\n",
    "sns.lineplot(ax=ax,x='iteration',y='sse',data=data,palette=\"husl\")"
   ]
  },
  {
   "cell_type": "markdown",
   "metadata": {},
   "source": [
    "## SSE for learning rate 10^-15"
   ]
  },
  {
   "cell_type": "code",
   "execution_count": 200,
   "metadata": {},
   "outputs": [
    {
     "data": {
      "text/plain": [
       "<matplotlib.axes._subplots.AxesSubplot at 0x1886a3630>"
      ]
     },
     "execution_count": 200,
     "metadata": {},
     "output_type": "execute_result"
    },
    {
     "data": {
      "image/png": "[encoded data removed]",
      "text/plain": [
       "<Figure size 1440x792 with 1 Axes>"
      ]
     },
     "metadata": {
      "needs_background": "light"
     },
     "output_type": "display_data"
    }
   ],
   "source": [
    "y=all_not_normalized_info[0.000000000000001]['sse_for_each_iteration']\n",
    "iteration = np.array([x for x in range(1,len(y)+1)])\n",
    "data = pd.DataFrame({'iteration':iteration ,'sse':np.array(y)})\n",
    "\n",
    "a4_dims = (20, 11)\n",
    "fig, ax = plt.subplots(figsize=a4_dims)\n",
    "sns.lineplot(ax=ax,x='iteration',y='sse',data=data,palette=\"husl\")"
   ]
  },
  {
   "cell_type": "code",
   "execution_count": 234,
   "metadata": {},
   "outputs": [],
   "source": [
    "validation_df = pd.read_csv(validation_data_source)\n",
    "validation_df.sample(5)\n",
    "weights = all_not_normalized_info[0.000000000000001][\"weights\"]\n",
    "y = validation_df[\"price\"]\n",
    "validation_df = validation_df[['bedrooms', 'bathrooms', 'sqft_living', 'floors', 'waterfront', 'view',\n",
    "      'grade', 'sqft_above', 'sqft_basement', 'lat', 'sqft_living15','dummy']]"
   ]
  },
  {
   "cell_type": "markdown",
   "metadata": {},
   "source": [
    "## SSE for Validation data on non-normalized data"
   ]
  },
  {
   "cell_type": "code",
   "execution_count": 236,
   "metadata": {},
   "outputs": [
    {
     "name": "stdout",
     "output_type": "stream",
     "text": [
      "6592979080.296163\n"
     ]
    }
   ],
   "source": [
    "diff_in_y = validation_df.dot(weights)\n",
    "sse = (np.transpose(diff_in_y)).dot(diff_in_y)\n",
    "print(sse)"
   ]
  },
  {
   "cell_type": "markdown",
   "metadata": {},
   "source": [
    "## SSE is `6592979080.296163`"
   ]
  },
  {
   "cell_type": "markdown",
   "metadata": {},
   "source": [
    "Our observation is that SSE is decreasing only for the learning rate **10^-15**<br/><br/>\n",
    "The learning rate of **10^-15** prevents the gradient descent from exploding<br/><br/>\n",
    "Comparing between normalized and non-normalized data we find that it is easier to train on normalized data.<br/><br/>\n",
    "Normalized data is easier to train because normalization reduces the magnitude of the numbers which prevents the numbers from overflowing."
   ]
  }
 ],
 "metadata": {
  "kernelspec": {
   "display_name": "Python 3",
   "language": "python",
   "name": "python3"
  },
  "language_info": {
   "codemirror_mode": {
    "name": "ipython",
    "version": 3
   },
   "file_extension": ".py",
   "mimetype": "text/x-python",
   "name": "python",
   "nbconvert_exporter": "python",
   "pygments_lexer": "ipython3",
   "version": "3.7.0"
  }
 },
 "nbformat": 4,
 "nbformat_minor": 2
}
