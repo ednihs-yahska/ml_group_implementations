{
 "cells": [
  {
   "cell_type": "code",
   "execution_count": 3,
   "metadata": {},
   "outputs": [
    {
     "data": {
      "text/plain": [
       "<matplotlib.legend.Legend at 0x121803748>"
      ]
     },
     "execution_count": 3,
     "metadata": {},
     "output_type": "execute_result"
    },
    {
     "data": {
      "image/png": "[encoded data removed]",
      "text/plain": [
       "<Figure size 432x288 with 1 Axes>"
      ]
     },
     "metadata": {
      "needs_background": "light"
     },
     "output_type": "display_data"
    }
   ],
   "source": [
    "import numpy as np\n",
    "import pandas as pd\n",
    "import matplotlib.pyplot as plt\n",
    "\n",
    "NUMBER_OF_ITERATION = 15\n",
    "def get_labels(k):\n",
    "   label = ['label']\n",
    "   for i in range(1,k+1):\n",
    "       label.append(str(i))\n",
    "   return label\n",
    "def add_bias(data):\n",
    "   data['785'] = np.array([1]*data.shape[0])\n",
    "   return data\n",
    "def kp(x,y,p=1):\n",
    "   value = 1 + np.matmul(x,np.transpose(y))\n",
    "   value = np.power(value,p)\n",
    "   return value\n",
    "def get_Y_and_X(data):\n",
    "   y = data['label'].apply(lambda x: 1 if x==3 else -1)\n",
    "   x = data.drop(['label'],1)\n",
    "   return x,y\n",
    "\n",
    "train_df,Y = get_Y_and_X(add_bias(pd.read_csv('pa2_train.csv',names=get_labels(784))))\n",
    "valid_df, VY = get_Y_and_X(add_bias(pd.read_csv('pa2_valid.csv',names=get_labels(784))))\n",
    "\n",
    "# df = pd.read_csv(\"pa2_train.csv\");\n",
    "# # df.columns = [str(i) for i in range(0, df.shape[1])]\n",
    "# df2 = pd.read_csv(\"pa2_valid.csv\");\n",
    "# df2.columns = [str(i) for i in range(0, df.shape[1])]\n",
    "# # df[\"bias\"] = 1.0;\n",
    "# df2[\"bias\"] = 1.0;\n",
    "# df.sample(5)\n",
    "# # Y=df[\"0\"]\n",
    "# # Y = Y.apply(lambda x: 1 if x == 3 else -1)\n",
    "# VY=df2[\"0\"]\n",
    "# VY = VY.apply(lambda x: 1 if x == 3 else -1)\n",
    "# # train_df = df.drop([\"0\"], axis=1)\n",
    "# valid_df = df2.drop([\"0\"], axis=1)\n",
    "\n",
    "(n, features) = train_df.shape\n",
    "\n",
    "(vn, vfeatures) = valid_df.shape\n",
    "\n",
    "W = [0 for x in range(0, features)]\n",
    "W = np.array(W)\n",
    "iters = 15; _iter = 0;\n",
    "training_error = []\n",
    "validation_error = []\n",
    "train_accuracy = []\n",
    "validation_accuracy = []\n",
    "weightsMap = {}\n",
    "maxAccuracy = 0\n",
    "maxAccuracyIndex = 0\n",
    "while _iter < iters:\n",
    "    error = 0;\n",
    "    v_error = 0;\n",
    "    for i in range(0, n):\n",
    "        x = train_df.iloc[i]\n",
    "        u = W.dot(x)\n",
    "        yi = Y.iloc[i]\n",
    "        if yi*u <= 0:\n",
    "            W = np.add(W,np.multiply(yi,x))\n",
    "    for i in range(0, n):\n",
    "        x = train_df.iloc[i]\n",
    "        u = W.dot(x)\n",
    "        yi = Y.iloc[i]\n",
    "        if yi*u <= 0:\n",
    "            error+=1  \n",
    "    weightsMap[_iter] = W\n",
    "    training_error.append(error)\n",
    "    t_accuracy = 1-(error/n);\n",
    "    train_accuracy.append(t_accuracy)\n",
    "    for i in range(0, vn):\n",
    "        vx = valid_df.iloc[i]\n",
    "        vu = np.array([W]).dot(vx)\n",
    "        vyi = VY.iloc[i]\n",
    "        if vyi*vu <= 0:\n",
    "            v_error += 1;\n",
    "    validation_error.append(v_error)\n",
    "    v_accuracy = 1-(v_error/vn);\n",
    "    validation_accuracy.append(v_accuracy)\n",
    "    _iter+=1\n",
    "t, = plt.plot([0,1,2,3,4,5,6,7,8,9,10,11,12,13,14], train_accuracy, label=\"training accuracy\")\n",
    "v, = plt.plot([0,1,2,3,4,5,6,7,8,9,10,11,12,13,14], validation_accuracy, label=\"validation accuracy\")\n",
    "plt.xlabel('iterations')\n",
    "plt.ylabel('accuracy')\n",
    "plt.legend(handles=[t,v], loc='best')\n",
    "\n",
    "\n",
    "    \n",
    "\n",
    "\n",
    "\n",
    "    \n",
    "\n",
    "        \n",
    "        \n",
    "    \n"
   ]
  },
  {
   "cell_type": "code",
   "execution_count": 49,
   "metadata": {},
   "outputs": [
    {
     "name": "stdout",
     "output_type": "stream",
     "text": [
      "[0.9337016574585635, 0.94536525475752, 0.9349294045426642, 0.9484346224677717, 0.9367710251688153, 0.943523634131369, 0.937998772252916, 0.9386126457949663, 0.9478207489257213, 0.9392265193370166, 0.9404542664211173, 0.9429097605893186, 0.9422958870472683, 0.952731737262124, 0.9459791282995703]\n"
     ]
    }
   ],
   "source": [
    "print(validation_accuracy)"
   ]
  },
  {
   "cell_type": "code",
   "execution_count": 50,
   "metadata": {},
   "outputs": [],
   "source": [
    "WW=weightsMap[13]"
   ]
  },
  {
   "cell_type": "code",
   "execution_count": 51,
   "metadata": {},
   "outputs": [
    {
     "name": "stdout",
     "output_type": "stream",
     "text": [
      "(785,)\n"
     ]
    }
   ],
   "source": [
    "print(X.shape)"
   ]
  },
  {
   "cell_type": "code",
   "execution_count": 28,
   "metadata": {},
   "outputs": [
    {
     "data": {
      "text/html": [
       "<div>\n",
       "<style scoped>\n",
       "    .dataframe tbody tr th:only-of-type {\n",
       "        vertical-align: middle;\n",
       "    }\n",
       "\n",
       "    .dataframe tbody tr th {\n",
       "        vertical-align: top;\n",
       "    }\n",
       "\n",
       "    .dataframe thead th {\n",
       "        text-align: right;\n",
       "    }\n",
       "</style>\n",
       "<table border=\"1\" class=\"dataframe\">\n",
       "  <thead>\n",
       "    <tr style=\"text-align: right;\">\n",
       "      <th></th>\n",
       "      <th>1</th>\n",
       "      <th>2</th>\n",
       "      <th>3</th>\n",
       "      <th>4</th>\n",
       "      <th>5</th>\n",
       "      <th>6</th>\n",
       "      <th>7</th>\n",
       "      <th>8</th>\n",
       "      <th>9</th>\n",
       "      <th>10</th>\n",
       "      <th>...</th>\n",
       "      <th>776</th>\n",
       "      <th>777</th>\n",
       "      <th>778</th>\n",
       "      <th>779</th>\n",
       "      <th>780</th>\n",
       "      <th>781</th>\n",
       "      <th>782</th>\n",
       "      <th>783</th>\n",
       "      <th>784</th>\n",
       "      <th>785</th>\n",
       "    </tr>\n",
       "  </thead>\n",
       "  <tbody>\n",
       "    <tr>\n",
       "      <th>0</th>\n",
       "      <td>0.0</td>\n",
       "      <td>0.0</td>\n",
       "      <td>0.0</td>\n",
       "      <td>0.0</td>\n",
       "      <td>0.0</td>\n",
       "      <td>0.0</td>\n",
       "      <td>0.0</td>\n",
       "      <td>0.0</td>\n",
       "      <td>0.0</td>\n",
       "      <td>0.0</td>\n",
       "      <td>...</td>\n",
       "      <td>0.0</td>\n",
       "      <td>0.0</td>\n",
       "      <td>0.0</td>\n",
       "      <td>0.0</td>\n",
       "      <td>0.0</td>\n",
       "      <td>0.0</td>\n",
       "      <td>0.0</td>\n",
       "      <td>0.0</td>\n",
       "      <td>0.0</td>\n",
       "      <td>1</td>\n",
       "    </tr>\n",
       "    <tr>\n",
       "      <th>1</th>\n",
       "      <td>0.0</td>\n",
       "      <td>0.0</td>\n",
       "      <td>0.0</td>\n",
       "      <td>0.0</td>\n",
       "      <td>0.0</td>\n",
       "      <td>0.0</td>\n",
       "      <td>0.0</td>\n",
       "      <td>0.0</td>\n",
       "      <td>0.0</td>\n",
       "      <td>0.0</td>\n",
       "      <td>...</td>\n",
       "      <td>0.0</td>\n",
       "      <td>0.0</td>\n",
       "      <td>0.0</td>\n",
       "      <td>0.0</td>\n",
       "      <td>0.0</td>\n",
       "      <td>0.0</td>\n",
       "      <td>0.0</td>\n",
       "      <td>0.0</td>\n",
       "      <td>0.0</td>\n",
       "      <td>1</td>\n",
       "    </tr>\n",
       "    <tr>\n",
       "      <th>2</th>\n",
       "      <td>0.0</td>\n",
       "      <td>0.0</td>\n",
       "      <td>0.0</td>\n",
       "      <td>0.0</td>\n",
       "      <td>0.0</td>\n",
       "      <td>0.0</td>\n",
       "      <td>0.0</td>\n",
       "      <td>0.0</td>\n",
       "      <td>0.0</td>\n",
       "      <td>0.0</td>\n",
       "      <td>...</td>\n",
       "      <td>0.0</td>\n",
       "      <td>0.0</td>\n",
       "      <td>0.0</td>\n",
       "      <td>0.0</td>\n",
       "      <td>0.0</td>\n",
       "      <td>0.0</td>\n",
       "      <td>0.0</td>\n",
       "      <td>0.0</td>\n",
       "      <td>0.0</td>\n",
       "      <td>1</td>\n",
       "    </tr>\n",
       "    <tr>\n",
       "      <th>3</th>\n",
       "      <td>0.0</td>\n",
       "      <td>0.0</td>\n",
       "      <td>0.0</td>\n",
       "      <td>0.0</td>\n",
       "      <td>0.0</td>\n",
       "      <td>0.0</td>\n",
       "      <td>0.0</td>\n",
       "      <td>0.0</td>\n",
       "      <td>0.0</td>\n",
       "      <td>0.0</td>\n",
       "      <td>...</td>\n",
       "      <td>0.0</td>\n",
       "      <td>0.0</td>\n",
       "      <td>0.0</td>\n",
       "      <td>0.0</td>\n",
       "      <td>0.0</td>\n",
       "      <td>0.0</td>\n",
       "      <td>0.0</td>\n",
       "      <td>0.0</td>\n",
       "      <td>0.0</td>\n",
       "      <td>1</td>\n",
       "    </tr>\n",
       "    <tr>\n",
       "      <th>4</th>\n",
       "      <td>0.0</td>\n",
       "      <td>0.0</td>\n",
       "      <td>0.0</td>\n",
       "      <td>0.0</td>\n",
       "      <td>0.0</td>\n",
       "      <td>0.0</td>\n",
       "      <td>0.0</td>\n",
       "      <td>0.0</td>\n",
       "      <td>0.0</td>\n",
       "      <td>0.0</td>\n",
       "      <td>...</td>\n",
       "      <td>0.0</td>\n",
       "      <td>0.0</td>\n",
       "      <td>0.0</td>\n",
       "      <td>0.0</td>\n",
       "      <td>0.0</td>\n",
       "      <td>0.0</td>\n",
       "      <td>0.0</td>\n",
       "      <td>0.0</td>\n",
       "      <td>0.0</td>\n",
       "      <td>1</td>\n",
       "    </tr>\n",
       "  </tbody>\n",
       "</table>\n",
       "<p>5 rows × 785 columns</p>\n",
       "</div>"
      ],
      "text/plain": [
       "     1    2    3    4    5    6    7    8    9   10 ...   776  777  778  779  \\\n",
       "0  0.0  0.0  0.0  0.0  0.0  0.0  0.0  0.0  0.0  0.0 ...   0.0  0.0  0.0  0.0   \n",
       "1  0.0  0.0  0.0  0.0  0.0  0.0  0.0  0.0  0.0  0.0 ...   0.0  0.0  0.0  0.0   \n",
       "2  0.0  0.0  0.0  0.0  0.0  0.0  0.0  0.0  0.0  0.0 ...   0.0  0.0  0.0  0.0   \n",
       "3  0.0  0.0  0.0  0.0  0.0  0.0  0.0  0.0  0.0  0.0 ...   0.0  0.0  0.0  0.0   \n",
       "4  0.0  0.0  0.0  0.0  0.0  0.0  0.0  0.0  0.0  0.0 ...   0.0  0.0  0.0  0.0   \n",
       "\n",
       "   780  781  782  783  784  785  \n",
       "0  0.0  0.0  0.0  0.0  0.0    1  \n",
       "1  0.0  0.0  0.0  0.0  0.0    1  \n",
       "2  0.0  0.0  0.0  0.0  0.0    1  \n",
       "3  0.0  0.0  0.0  0.0  0.0    1  \n",
       "4  0.0  0.0  0.0  0.0  0.0    1  \n",
       "\n",
       "[5 rows x 785 columns]"
      ]
     },
     "execution_count": 28,
     "metadata": {},
     "output_type": "execute_result"
    }
   ],
   "source": [
    "train_df.head()"
   ]
  },
  {
   "cell_type": "markdown",
   "metadata": {},
   "source": [
    "The train accuracy does not reach 100% because the data may not be linearly seperable. Some instances of 5s may look like 3 or some 3s may look like 5"
   ]
  },
  {
   "cell_type": "code",
   "execution_count": 42,
   "metadata": {},
   "outputs": [
    {
     "name": "stdout",
     "output_type": "stream",
     "text": [
      "(1, 785)\n"
     ]
    }
   ],
   "source": [
    "#predict_df = pd.read_csv(\"pa2_test_no_label.csv\")\n",
    "predict_df = add_bias(pd.read_csv('pa2_test_no_label.csv',names=get_labels(784)[1:]))\n",
    "a = (np.array([WW]))\n",
    "print(a.shape)\n",
    "# for i in range(0, train_df.shape[0]):\n",
    "#     X = train_df.iloc[i]\n",
    "#     #y_ = np.sign(WW.dot(X))\n",
    "#     y_ = np.multiply(np.transpose(WW), np.transpose(X))\n",
    "#     predict_df.at[\"label\", i] = y_\n",
    "# predict_df.sample(5)\n",
    "\n",
    "y_ = a.dot(np.transpose(predict_df))\n",
    "\n"
   ]
  },
  {
   "cell_type": "code",
   "execution_count": 43,
   "metadata": {},
   "outputs": [
    {
     "data": {
      "text/html": [
       "<div>\n",
       "<style scoped>\n",
       "    .dataframe tbody tr th:only-of-type {\n",
       "        vertical-align: middle;\n",
       "    }\n",
       "\n",
       "    .dataframe tbody tr th {\n",
       "        vertical-align: top;\n",
       "    }\n",
       "\n",
       "    .dataframe thead th {\n",
       "        text-align: right;\n",
       "    }\n",
       "</style>\n",
       "<table border=\"1\" class=\"dataframe\">\n",
       "  <thead>\n",
       "    <tr style=\"text-align: right;\">\n",
       "      <th></th>\n",
       "      <th>1</th>\n",
       "      <th>2</th>\n",
       "      <th>3</th>\n",
       "      <th>4</th>\n",
       "      <th>5</th>\n",
       "      <th>6</th>\n",
       "      <th>7</th>\n",
       "      <th>8</th>\n",
       "      <th>9</th>\n",
       "      <th>10</th>\n",
       "      <th>...</th>\n",
       "      <th>776</th>\n",
       "      <th>777</th>\n",
       "      <th>778</th>\n",
       "      <th>779</th>\n",
       "      <th>780</th>\n",
       "      <th>781</th>\n",
       "      <th>782</th>\n",
       "      <th>783</th>\n",
       "      <th>784</th>\n",
       "      <th>785</th>\n",
       "    </tr>\n",
       "  </thead>\n",
       "  <tbody>\n",
       "    <tr>\n",
       "      <th>0</th>\n",
       "      <td>0.0</td>\n",
       "      <td>0.0</td>\n",
       "      <td>0.0</td>\n",
       "      <td>0.0</td>\n",
       "      <td>0.0</td>\n",
       "      <td>0.0</td>\n",
       "      <td>0.0</td>\n",
       "      <td>0.0</td>\n",
       "      <td>0.0</td>\n",
       "      <td>0.0</td>\n",
       "      <td>...</td>\n",
       "      <td>0.0</td>\n",
       "      <td>0.0</td>\n",
       "      <td>0.0</td>\n",
       "      <td>0.0</td>\n",
       "      <td>0.0</td>\n",
       "      <td>0.0</td>\n",
       "      <td>0.0</td>\n",
       "      <td>0.0</td>\n",
       "      <td>0.0</td>\n",
       "      <td>1</td>\n",
       "    </tr>\n",
       "    <tr>\n",
       "      <th>1</th>\n",
       "      <td>0.0</td>\n",
       "      <td>0.0</td>\n",
       "      <td>0.0</td>\n",
       "      <td>0.0</td>\n",
       "      <td>0.0</td>\n",
       "      <td>0.0</td>\n",
       "      <td>0.0</td>\n",
       "      <td>0.0</td>\n",
       "      <td>0.0</td>\n",
       "      <td>0.0</td>\n",
       "      <td>...</td>\n",
       "      <td>0.0</td>\n",
       "      <td>0.0</td>\n",
       "      <td>0.0</td>\n",
       "      <td>0.0</td>\n",
       "      <td>0.0</td>\n",
       "      <td>0.0</td>\n",
       "      <td>0.0</td>\n",
       "      <td>0.0</td>\n",
       "      <td>0.0</td>\n",
       "      <td>1</td>\n",
       "    </tr>\n",
       "    <tr>\n",
       "      <th>2</th>\n",
       "      <td>0.0</td>\n",
       "      <td>0.0</td>\n",
       "      <td>0.0</td>\n",
       "      <td>0.0</td>\n",
       "      <td>0.0</td>\n",
       "      <td>0.0</td>\n",
       "      <td>0.0</td>\n",
       "      <td>0.0</td>\n",
       "      <td>0.0</td>\n",
       "      <td>0.0</td>\n",
       "      <td>...</td>\n",
       "      <td>0.0</td>\n",
       "      <td>0.0</td>\n",
       "      <td>0.0</td>\n",
       "      <td>0.0</td>\n",
       "      <td>0.0</td>\n",
       "      <td>0.0</td>\n",
       "      <td>0.0</td>\n",
       "      <td>0.0</td>\n",
       "      <td>0.0</td>\n",
       "      <td>1</td>\n",
       "    </tr>\n",
       "    <tr>\n",
       "      <th>3</th>\n",
       "      <td>0.0</td>\n",
       "      <td>0.0</td>\n",
       "      <td>0.0</td>\n",
       "      <td>0.0</td>\n",
       "      <td>0.0</td>\n",
       "      <td>0.0</td>\n",
       "      <td>0.0</td>\n",
       "      <td>0.0</td>\n",
       "      <td>0.0</td>\n",
       "      <td>0.0</td>\n",
       "      <td>...</td>\n",
       "      <td>0.0</td>\n",
       "      <td>0.0</td>\n",
       "      <td>0.0</td>\n",
       "      <td>0.0</td>\n",
       "      <td>0.0</td>\n",
       "      <td>0.0</td>\n",
       "      <td>0.0</td>\n",
       "      <td>0.0</td>\n",
       "      <td>0.0</td>\n",
       "      <td>1</td>\n",
       "    </tr>\n",
       "    <tr>\n",
       "      <th>4</th>\n",
       "      <td>0.0</td>\n",
       "      <td>0.0</td>\n",
       "      <td>0.0</td>\n",
       "      <td>0.0</td>\n",
       "      <td>0.0</td>\n",
       "      <td>0.0</td>\n",
       "      <td>0.0</td>\n",
       "      <td>0.0</td>\n",
       "      <td>0.0</td>\n",
       "      <td>0.0</td>\n",
       "      <td>...</td>\n",
       "      <td>0.0</td>\n",
       "      <td>0.0</td>\n",
       "      <td>0.0</td>\n",
       "      <td>0.0</td>\n",
       "      <td>0.0</td>\n",
       "      <td>0.0</td>\n",
       "      <td>0.0</td>\n",
       "      <td>0.0</td>\n",
       "      <td>0.0</td>\n",
       "      <td>1</td>\n",
       "    </tr>\n",
       "  </tbody>\n",
       "</table>\n",
       "<p>5 rows × 785 columns</p>\n",
       "</div>"
      ],
      "text/plain": [
       "     1    2    3    4    5    6    7    8    9   10 ...   776  777  778  779  \\\n",
       "0  0.0  0.0  0.0  0.0  0.0  0.0  0.0  0.0  0.0  0.0 ...   0.0  0.0  0.0  0.0   \n",
       "1  0.0  0.0  0.0  0.0  0.0  0.0  0.0  0.0  0.0  0.0 ...   0.0  0.0  0.0  0.0   \n",
       "2  0.0  0.0  0.0  0.0  0.0  0.0  0.0  0.0  0.0  0.0 ...   0.0  0.0  0.0  0.0   \n",
       "3  0.0  0.0  0.0  0.0  0.0  0.0  0.0  0.0  0.0  0.0 ...   0.0  0.0  0.0  0.0   \n",
       "4  0.0  0.0  0.0  0.0  0.0  0.0  0.0  0.0  0.0  0.0 ...   0.0  0.0  0.0  0.0   \n",
       "\n",
       "   780  781  782  783  784  785  \n",
       "0  0.0  0.0  0.0  0.0  0.0    1  \n",
       "1  0.0  0.0  0.0  0.0  0.0    1  \n",
       "2  0.0  0.0  0.0  0.0  0.0    1  \n",
       "3  0.0  0.0  0.0  0.0  0.0    1  \n",
       "4  0.0  0.0  0.0  0.0  0.0    1  \n",
       "\n",
       "[5 rows x 785 columns]"
      ]
     },
     "execution_count": 43,
     "metadata": {},
     "output_type": "execute_result"
    }
   ],
   "source": [
    "predict_df.head()"
   ]
  },
  {
   "cell_type": "code",
   "execution_count": 44,
   "metadata": {},
   "outputs": [
    {
     "name": "stdout",
     "output_type": "stream",
     "text": [
      "[[-10760709.80341084 -11564992.23845502  -6285356.7625284  ...\n",
      "   -4076231.19992928  10654768.12378588  -7811490.49069834]]\n"
     ]
    }
   ],
   "source": [
    "print(y_)"
   ]
  },
  {
   "cell_type": "code",
   "execution_count": 45,
   "metadata": {},
   "outputs": [
    {
     "name": "stdout",
     "output_type": "stream",
     "text": [
      "[[-1. -1. -1. ... -1.  1. -1.]]\n"
     ]
    }
   ],
   "source": [
    "print(np.sign(y_))"
   ]
  },
  {
   "cell_type": "code",
   "execution_count": 46,
   "metadata": {},
   "outputs": [],
   "source": [
    "p = pd.DataFrame(np.sign(y_)).T"
   ]
  },
  {
   "cell_type": "code",
   "execution_count": 47,
   "metadata": {},
   "outputs": [],
   "source": [
    "p.to_csv(\"oplabel.csv\", index=False, header=False)"
   ]
  },
  {
   "cell_type": "code",
   "execution_count": 35,
   "metadata": {},
   "outputs": [
    {
     "data": {
      "text/plain": [
       "(1629, 785)"
      ]
     },
     "execution_count": 35,
     "metadata": {},
     "output_type": "execute_result"
    }
   ],
   "source": [
    "predict_df.shape"
   ]
  },
  {
   "cell_type": "code",
   "execution_count": 36,
   "metadata": {},
   "outputs": [
    {
     "data": {
      "text/plain": [
       "(0, 1629)"
      ]
     },
     "execution_count": 36,
     "metadata": {},
     "output_type": "execute_result"
    }
   ],
   "source": [
    "ss = pd.read_csv(\"oplabel.csv\")\n",
    "ss.shape"
   ]
  },
  {
   "cell_type": "code",
   "execution_count": 37,
   "metadata": {},
   "outputs": [
    {
     "data": {
      "text/html": [
       "<div>\n",
       "<style scoped>\n",
       "    .dataframe tbody tr th:only-of-type {\n",
       "        vertical-align: middle;\n",
       "    }\n",
       "\n",
       "    .dataframe tbody tr th {\n",
       "        vertical-align: top;\n",
       "    }\n",
       "\n",
       "    .dataframe thead th {\n",
       "        text-align: right;\n",
       "    }\n",
       "</style>\n",
       "<table border=\"1\" class=\"dataframe\">\n",
       "  <thead>\n",
       "    <tr style=\"text-align: right;\">\n",
       "      <th></th>\n",
       "      <th>-1.0</th>\n",
       "      <th>-1.0.1</th>\n",
       "      <th>-1.0.2</th>\n",
       "      <th>1.0</th>\n",
       "      <th>-1.0.3</th>\n",
       "      <th>-1.0.4</th>\n",
       "      <th>1.0.1</th>\n",
       "      <th>-1.0.5</th>\n",
       "      <th>1.0.2</th>\n",
       "      <th>-1.0.6</th>\n",
       "      <th>...</th>\n",
       "      <th>1.0.873</th>\n",
       "      <th>-1.0.746</th>\n",
       "      <th>-1.0.747</th>\n",
       "      <th>-1.0.748</th>\n",
       "      <th>1.0.874</th>\n",
       "      <th>-1.0.749</th>\n",
       "      <th>-1.0.750</th>\n",
       "      <th>-1.0.751</th>\n",
       "      <th>1.0.875</th>\n",
       "      <th>-1.0.752</th>\n",
       "    </tr>\n",
       "  </thead>\n",
       "  <tbody>\n",
       "  </tbody>\n",
       "</table>\n",
       "<p>0 rows × 1629 columns</p>\n",
       "</div>"
      ],
      "text/plain": [
       "Empty DataFrame\n",
       "Columns: [-1.0, -1.0.1, -1.0.2, 1.0, -1.0.3, -1.0.4, 1.0.1, -1.0.5, 1.0.2, -1.0.6, -1.0.7, 1.0.3, -1.0.8, -1.0.9, 1.0.4, 1.0.5, -1.0.10, -1.0.11, 1.0.6, 1.0.7, 1.0.8, 1.0.9, 1.0.10, 1.0.11, -1.0.12, -1.0.13, -1.0.14, 1.0.12, -1.0.15, -1.0.16, -1.0.17, -1.0.18, -1.0.19, -1.0.20, -1.0.21, -1.0.22, -1.0.23, 1.0.13, -1.0.24, -1.0.25, 1.0.14, 1.0.15, -1.0.26, -1.0.27, -1.0.28, -1.0.29, 1.0.16, 1.0.17, 1.0.18, 1.0.19, -1.0.30, 1.0.20, -1.0.31, 1.0.21, 1.0.22, -1.0.32, 1.0.23, 1.0.24, 1.0.25, 1.0.26, 1.0.27, -1.0.33, 1.0.28, -1.0.34, 1.0.29, -1.0.35, 1.0.30, 1.0.31, 1.0.32, -1.0.36, -1.0.37, 1.0.33, -1.0.38, -1.0.39, 1.0.34, -1.0.40, -1.0.41, -1.0.42, 1.0.35, -1.0.43, 1.0.36, -1.0.44, 1.0.37, 1.0.38, -1.0.45, -1.0.46, 1.0.39, -1.0.47, 1.0.40, -1.0.48, -1.0.49, -1.0.50, 1.0.41, -1.0.51, -1.0.52, -1.0.53, -1.0.54, 1.0.42, 1.0.43, -1.0.55, ...]\n",
       "Index: []\n",
       "\n",
       "[0 rows x 1629 columns]"
      ]
     },
     "execution_count": 37,
     "metadata": {},
     "output_type": "execute_result"
    }
   ],
   "source": [
    "ss.head()"
   ]
  },
  {
   "cell_type": "code",
   "execution_count": 38,
   "metadata": {},
   "outputs": [
    {
     "data": {
      "text/plain": [
       "(1, 1629)"
      ]
     },
     "execution_count": 38,
     "metadata": {},
     "output_type": "execute_result"
    }
   ],
   "source": [
    "p.shape"
   ]
  },
  {
   "cell_type": "code",
   "execution_count": 39,
   "metadata": {},
   "outputs": [
    {
     "name": "stdout",
     "output_type": "stream",
     "text": [
      "[-1.0, -1.0, -1.0, 1.0, -1.0, -1.0, 1.0, -1.0, 1.0, -1.0, -1.0, 1.0, -1.0, -1.0, 1.0, 1.0, -1.0, -1.0, 1.0, 1.0, 1.0, 1.0, 1.0, 1.0, -1.0, -1.0, -1.0, 1.0, -1.0, -1.0, -1.0, -1.0, -1.0, -1.0, -1.0, -1.0, -1.0, 1.0, -1.0, -1.0, 1.0, 1.0, -1.0, -1.0, -1.0, -1.0, 1.0, 1.0, 1.0, 1.0]\n",
      "[[-1. -1. -1.  1. -1. -1.  1. -1.  1. -1. -1.  1. -1. -1.  1.  1. -1. -1.\n",
      "   1.  1.  1.  1.  1.  1. -1. -1. -1.  1. -1. -1. -1. -1. -1. -1. -1. -1.\n",
      "  -1.  1. -1. -1.  1.  1. -1. -1. -1. -1.  1.  1.  1.  1.]]\n"
     ]
    }
   ],
   "source": [
    "testing_df = predict_df.head(50)\n",
    "Y = []\n",
    "for i in range(0, 50):\n",
    "    X = testing_df.iloc[i]\n",
    "    W = WW\n",
    "    y_ = np.sign(W.dot(X))\n",
    "    Y.append(y_)\n",
    "    \n",
    "print(Y)\n",
    "\n",
    "a = (np.array([WW]))\n",
    "y2_ = a.dot(np.transpose(testing_df)) \n",
    "\n",
    "print(np.sign(y2_))"
   ]
  },
  {
   "cell_type": "code",
   "execution_count": null,
   "metadata": {},
   "outputs": [],
   "source": []
  }
 ],
 "metadata": {
  "kernelspec": {
   "display_name": "Python 3",
   "language": "python",
   "name": "python3"
  },
  "language_info": {
   "codemirror_mode": {
    "name": "ipython",
    "version": 3
   },
   "file_extension": ".py",
   "mimetype": "text/x-python",
   "name": "python",
   "nbconvert_exporter": "python",
   "pygments_lexer": "ipython3",
   "version": "3.7.0"
  }
 },
 "nbformat": 4,
 "nbformat_minor": 2
}
