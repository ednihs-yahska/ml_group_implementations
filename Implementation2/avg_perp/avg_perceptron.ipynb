{
 "cells": [
  {
   "cell_type": "code",
   "execution_count": 167,
   "metadata": {},
   "outputs": [],
   "source": [
    "import numpy as np\n",
    "import pandas as pd\n",
    "import matplotlib.pyplot as plt"
   ]
  },
  {
   "cell_type": "code",
   "execution_count": 168,
   "metadata": {},
   "outputs": [],
   "source": [
    "df = pd.read_csv('pa2_train.csv')\n",
    "df.columns = [str(i) for i in range(0,df.shape[1])]\n",
    "\n",
    "df2 = pd.read_csv('pa2_valid.csv')\n",
    "df.columns = [str(i) for i in range(0, df.shape[1])]\n",
    "\n",
    "df['bias'] = 1.0;\n",
    "df2['bias']  = 1.0;"
   ]
  },
  {
   "cell_type": "code",
   "execution_count": 169,
   "metadata": {},
   "outputs": [
    {
     "data": {
      "text/html": [
       "<div>\n",
       "<style scoped>\n",
       "    .dataframe tbody tr th:only-of-type {\n",
       "        vertical-align: middle;\n",
       "    }\n",
       "\n",
       "    .dataframe tbody tr th {\n",
       "        vertical-align: top;\n",
       "    }\n",
       "\n",
       "    .dataframe thead th {\n",
       "        text-align: right;\n",
       "    }\n",
       "</style>\n",
       "<table border=\"1\" class=\"dataframe\">\n",
       "  <thead>\n",
       "    <tr style=\"text-align: right;\">\n",
       "      <th></th>\n",
       "      <th>0</th>\n",
       "      <th>1</th>\n",
       "      <th>2</th>\n",
       "      <th>3</th>\n",
       "      <th>4</th>\n",
       "      <th>5</th>\n",
       "      <th>6</th>\n",
       "      <th>7</th>\n",
       "      <th>8</th>\n",
       "      <th>9</th>\n",
       "      <th>...</th>\n",
       "      <th>776</th>\n",
       "      <th>777</th>\n",
       "      <th>778</th>\n",
       "      <th>779</th>\n",
       "      <th>780</th>\n",
       "      <th>781</th>\n",
       "      <th>782</th>\n",
       "      <th>783</th>\n",
       "      <th>784</th>\n",
       "      <th>bias</th>\n",
       "    </tr>\n",
       "  </thead>\n",
       "  <tbody>\n",
       "    <tr>\n",
       "      <th>190</th>\n",
       "      <td>5</td>\n",
       "      <td>0.0</td>\n",
       "      <td>0.0</td>\n",
       "      <td>0.0</td>\n",
       "      <td>0.0</td>\n",
       "      <td>0.0</td>\n",
       "      <td>0.0</td>\n",
       "      <td>0.0</td>\n",
       "      <td>0.0</td>\n",
       "      <td>0.0</td>\n",
       "      <td>...</td>\n",
       "      <td>0.0</td>\n",
       "      <td>0.0</td>\n",
       "      <td>0.0</td>\n",
       "      <td>0.0</td>\n",
       "      <td>0.0</td>\n",
       "      <td>0.0</td>\n",
       "      <td>0.0</td>\n",
       "      <td>0.0</td>\n",
       "      <td>0.0</td>\n",
       "      <td>1.0</td>\n",
       "    </tr>\n",
       "    <tr>\n",
       "      <th>4</th>\n",
       "      <td>5</td>\n",
       "      <td>0.0</td>\n",
       "      <td>0.0</td>\n",
       "      <td>0.0</td>\n",
       "      <td>0.0</td>\n",
       "      <td>0.0</td>\n",
       "      <td>0.0</td>\n",
       "      <td>0.0</td>\n",
       "      <td>0.0</td>\n",
       "      <td>0.0</td>\n",
       "      <td>...</td>\n",
       "      <td>0.0</td>\n",
       "      <td>0.0</td>\n",
       "      <td>0.0</td>\n",
       "      <td>0.0</td>\n",
       "      <td>0.0</td>\n",
       "      <td>0.0</td>\n",
       "      <td>0.0</td>\n",
       "      <td>0.0</td>\n",
       "      <td>0.0</td>\n",
       "      <td>1.0</td>\n",
       "    </tr>\n",
       "    <tr>\n",
       "      <th>2051</th>\n",
       "      <td>5</td>\n",
       "      <td>0.0</td>\n",
       "      <td>0.0</td>\n",
       "      <td>0.0</td>\n",
       "      <td>0.0</td>\n",
       "      <td>0.0</td>\n",
       "      <td>0.0</td>\n",
       "      <td>0.0</td>\n",
       "      <td>0.0</td>\n",
       "      <td>0.0</td>\n",
       "      <td>...</td>\n",
       "      <td>0.0</td>\n",
       "      <td>0.0</td>\n",
       "      <td>0.0</td>\n",
       "      <td>0.0</td>\n",
       "      <td>0.0</td>\n",
       "      <td>0.0</td>\n",
       "      <td>0.0</td>\n",
       "      <td>0.0</td>\n",
       "      <td>0.0</td>\n",
       "      <td>1.0</td>\n",
       "    </tr>\n",
       "    <tr>\n",
       "      <th>303</th>\n",
       "      <td>5</td>\n",
       "      <td>0.0</td>\n",
       "      <td>0.0</td>\n",
       "      <td>0.0</td>\n",
       "      <td>0.0</td>\n",
       "      <td>0.0</td>\n",
       "      <td>0.0</td>\n",
       "      <td>0.0</td>\n",
       "      <td>0.0</td>\n",
       "      <td>0.0</td>\n",
       "      <td>...</td>\n",
       "      <td>0.0</td>\n",
       "      <td>0.0</td>\n",
       "      <td>0.0</td>\n",
       "      <td>0.0</td>\n",
       "      <td>0.0</td>\n",
       "      <td>0.0</td>\n",
       "      <td>0.0</td>\n",
       "      <td>0.0</td>\n",
       "      <td>0.0</td>\n",
       "      <td>1.0</td>\n",
       "    </tr>\n",
       "    <tr>\n",
       "      <th>2809</th>\n",
       "      <td>3</td>\n",
       "      <td>0.0</td>\n",
       "      <td>0.0</td>\n",
       "      <td>0.0</td>\n",
       "      <td>0.0</td>\n",
       "      <td>0.0</td>\n",
       "      <td>0.0</td>\n",
       "      <td>0.0</td>\n",
       "      <td>0.0</td>\n",
       "      <td>0.0</td>\n",
       "      <td>...</td>\n",
       "      <td>0.0</td>\n",
       "      <td>0.0</td>\n",
       "      <td>0.0</td>\n",
       "      <td>0.0</td>\n",
       "      <td>0.0</td>\n",
       "      <td>0.0</td>\n",
       "      <td>0.0</td>\n",
       "      <td>0.0</td>\n",
       "      <td>0.0</td>\n",
       "      <td>1.0</td>\n",
       "    </tr>\n",
       "  </tbody>\n",
       "</table>\n",
       "<p>5 rows × 786 columns</p>\n",
       "</div>"
      ],
      "text/plain": [
       "      0    1    2    3    4    5    6    7    8    9  ...   776  777  778  \\\n",
       "190   5  0.0  0.0  0.0  0.0  0.0  0.0  0.0  0.0  0.0  ...   0.0  0.0  0.0   \n",
       "4     5  0.0  0.0  0.0  0.0  0.0  0.0  0.0  0.0  0.0  ...   0.0  0.0  0.0   \n",
       "2051  5  0.0  0.0  0.0  0.0  0.0  0.0  0.0  0.0  0.0  ...   0.0  0.0  0.0   \n",
       "303   5  0.0  0.0  0.0  0.0  0.0  0.0  0.0  0.0  0.0  ...   0.0  0.0  0.0   \n",
       "2809  3  0.0  0.0  0.0  0.0  0.0  0.0  0.0  0.0  0.0  ...   0.0  0.0  0.0   \n",
       "\n",
       "      779  780  781  782  783  784  bias  \n",
       "190   0.0  0.0  0.0  0.0  0.0  0.0   1.0  \n",
       "4     0.0  0.0  0.0  0.0  0.0  0.0   1.0  \n",
       "2051  0.0  0.0  0.0  0.0  0.0  0.0   1.0  \n",
       "303   0.0  0.0  0.0  0.0  0.0  0.0   1.0  \n",
       "2809  0.0  0.0  0.0  0.0  0.0  0.0   1.0  \n",
       "\n",
       "[5 rows x 786 columns]"
      ]
     },
     "execution_count": 169,
     "metadata": {},
     "output_type": "execute_result"
    }
   ],
   "source": [
    "df.sample(5)"
   ]
  },
  {
   "cell_type": "code",
   "execution_count": 170,
   "metadata": {},
   "outputs": [],
   "source": [
    "#Renaming samples 3 = 1 and 5=1 on trainining data\n",
    "\n",
    "Y = df[\"0\"]\n",
    "Y =Y.apply(lambda x: 1 if x==3 else -1)"
   ]
  },
  {
   "cell_type": "code",
   "execution_count": 171,
   "metadata": {},
   "outputs": [],
   "source": [
    "#Renaming samples 3 = 1 and 5= -1 on trainining data\n",
    "df2\n",
    "val_y = df2[\"5\"]\n",
    "val_y = val_y.apply(lambda x: 1 if x==3 else -1)"
   ]
  },
  {
   "cell_type": "code",
   "execution_count": 172,
   "metadata": {},
   "outputs": [],
   "source": [
    "#dropping y original value\n",
    "\n",
    "train_df = df.drop([\"0\"], axis=1)\n",
    "valid_df = df2.drop([\"5\"], axis=1)"
   ]
  },
  {
   "cell_type": "code",
   "execution_count": 173,
   "metadata": {},
   "outputs": [
    {
     "data": {
      "text/plain": [
       "(4887, 785)"
      ]
     },
     "execution_count": 173,
     "metadata": {},
     "output_type": "execute_result"
    }
   ],
   "source": [
    "train_df.shape\n",
    "#valid_df.shape"
   ]
  },
  {
   "cell_type": "code",
   "execution_count": 174,
   "metadata": {},
   "outputs": [],
   "source": [
    "(n, features) = train_df.shape\n",
    "(val_n, val_features) = valid_df.shape"
   ]
  },
  {
   "cell_type": "code",
   "execution_count": 175,
   "metadata": {},
   "outputs": [],
   "source": [
    "W = np.zeros(features)\n",
    "W = np.array(W)"
   ]
  },
  {
   "cell_type": "code",
   "execution_count": 176,
   "metadata": {},
   "outputs": [],
   "source": [
    "c = 0\n",
    "w_hat  = np.zeros(features)\n",
    "#w_hat = np.array(w_hat)\n",
    "y_hat = np.zeros(features)\n",
    "#y_hat = np.array(y_hat)\n",
    "s = 0"
   ]
  },
  {
   "cell_type": "code",
   "execution_count": 177,
   "metadata": {},
   "outputs": [],
   "source": [
    "iters = 15; _iter = 0;"
   ]
  },
  {
   "cell_type": "code",
   "execution_count": 178,
   "metadata": {},
   "outputs": [
    {
     "data": {
      "text/plain": [
       "4887"
      ]
     },
     "execution_count": 178,
     "metadata": {},
     "output_type": "execute_result"
    }
   ],
   "source": [
    "Y.shape[0]"
   ]
  },
  {
   "cell_type": "code",
   "execution_count": 179,
   "metadata": {},
   "outputs": [],
   "source": [
    "training_error = []\n",
    "validation_error = []"
   ]
  },
  {
   "cell_type": "code",
   "execution_count": 180,
   "metadata": {},
   "outputs": [],
   "source": [
    "def predict(X,w):\n",
    "    return np.sign(np.dot(X, w_hat.T))"
   ]
  },
  {
   "cell_type": "code",
   "execution_count": 181,
   "metadata": {},
   "outputs": [],
   "source": [
    "def predict_accuracy(x,y,w_hat):\n",
    "    c=0\n",
    "    for j in range (x.shape[0]):\n",
    "        y_hat[j] = np.sign(np.dot(w_hat, x[j])) \n",
    "        if(y_hat[j] == 0):\n",
    "            y_hat[j] = -1\n",
    "\n",
    "        if(y_hat[j] != y[j]):\n",
    "            c = c+1\n",
    "    accuracy= (1-(c/x.shape[0]))*100\n",
    "    return accuracy"
   ]
  },
  {
   "cell_type": "code",
   "execution_count": 164,
   "metadata": {},
   "outputs": [
    {
     "name": "stdout",
     "output_type": "stream",
     "text": [
      "0 Predition accuracy for training data is  0.9821656050955414\n",
      "1 Predition accuracy for training data is  0.9668789808917198\n",
      "2 Predition accuracy for training data is  0.9668789808917198\n",
      "3 Predition accuracy for training data is  0.9859872611464968\n",
      "4 Predition accuracy for training data is  0.9859872611464968\n",
      "5 Predition accuracy for training data is  0.9847133757961783\n",
      "6 Predition accuracy for training data is  0.9859872611464968\n",
      "7 Predition accuracy for training data is  0.9821656050955414\n",
      "8 Predition accuracy for training data is  0.9847133757961783\n",
      "9 Predition accuracy for training data is  0.9859872611464968\n",
      "10 Predition accuracy for training data is  0.9821656050955414\n",
      "11 Predition accuracy for training data is  0.9859872611464968\n",
      "12 Predition accuracy for training data is  0.9859872611464968\n",
      "13 Predition accuracy for training data is  0.9859872611464968\n",
      "14 Predition accuracy for training data is  0.9859872611464968\n"
     ]
    }
   ],
   "source": [
    "while _iter < iters:\n",
    "    error = 0\n",
    "    for i in range(0, n):\n",
    "        x = train_df.iloc[i]\n",
    "        u = np.dot(x,W)\n",
    "        yi = Y.iloc[i]\n",
    "        \n",
    "        if yi*u <= 0:\n",
    "            if s+c >0:\n",
    "                w_hat  = np.add(np.multiply(s,w_hat), np.multiply(c,W))/ np.add(s, c)\n",
    "            s += c\n",
    "            W= np.add(W,np.multiply(yi,x))\n",
    "            c = 0\n",
    "            error+=1\n",
    "        else:\n",
    "            c+=1\n",
    "    print(_iter, \"Predition accuracy for training data is \", (1-(c/x.shape[0])))\n",
    "    _iter+=1\n",
    "if c>0:\n",
    "    w_hat  = np.add(np.multiply(s,w_hat), np.multiply(c,W))/ np.add(s, c)\n",
    "    #print(\"w_hat:\",w_hat )"
   ]
  },
  {
   "cell_type": "code",
   "execution_count": 165,
   "metadata": {},
   "outputs": [],
   "source": [
    "def avg_perceptron():\n",
    "    W = np.array(np.zeros(features))\n",
    "    counter = 0\n",
    "    w_hat  = np.array(np.zeros(features))\n",
    "    y_hat = np.array(np.zeros(features))\n",
    "    s = 0\n",
    "    iters = 15; _iter = 0;\n",
    "    training_error = []\n",
    "    validation_error = []\n",
    "    \n",
    "    while _iter < iters:\n",
    "        training_error = 0\n",
    "        for i in range(0, n):\n",
    "            x = train_df.iloc[i]\n",
    "            u = np.dot(x,W)\n",
    "            yi = Y.iloc[i]\n",
    "\n",
    "            if yi*u <= 0:\n",
    "                if s+c >0:\n",
    "                    w_hat  = np.add(np.multiply(s,w_hat), np.multiply(c,W))/ np.add(s, c)\n",
    "                s += c\n",
    "                W= np.add(W,np.multiply(yi,x))\n",
    "                c = 0\n",
    "                training_error+=1\n",
    "            else:\n",
    "                c+=1\n",
    "        _iter+=1\n",
    "        print(_iter, \"Predition accuracy for training data is \", predict_accuracy(x,Y,w_hat))\n",
    "    if c>0:\n",
    "        w_hat  = np.add(np.multiply(s,w_hat), np.multiply(c,W))/ np.add(s, c)\n",
    "        #print(\"w_hat:\",w_hat )\n",
    "        "
   ]
  },
  {
   "cell_type": "code",
   "execution_count": null,
   "metadata": {},
   "outputs": [],
   "source": []
  }
 ],
 "metadata": {
  "kernelspec": {
   "display_name": "Python 3",
   "language": "python",
   "name": "python3"
  },
  "language_info": {
   "codemirror_mode": {
    "name": "ipython",
    "version": 3
   },
   "file_extension": ".py",
   "mimetype": "text/x-python",
   "name": "python",
   "nbconvert_exporter": "python",
   "pygments_lexer": "ipython3",
   "version": "3.6.6"
  }
 },
 "nbformat": 4,
 "nbformat_minor": 2
}
