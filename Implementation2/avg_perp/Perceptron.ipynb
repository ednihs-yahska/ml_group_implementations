{
 "cells": [
  {
   "cell_type": "code",
   "execution_count": 51,
   "metadata": {},
   "outputs": [],
   "source": [
    "def predict(W,x,Y,c):\n",
    "    print(c)\n",
    "    c= 0\n",
    "    for i in range(x.shape[0]):\n",
    "        y_hat = np.sign(np.dot(np.transpose(W),x[i]))\n",
    "        y_hat += y_hat\n",
    "        \n",
    "        if y_hat[i] == 0:\n",
    "            y_hat[i] = -1\n",
    "        elif(y_hat[i] is not -1):\n",
    "            y_hat[i]/2 \n",
    " \n",
    "    return 1- c/x.shape[0]*100"
   ]
  },
  {
   "cell_type": "code",
   "execution_count": 53,
   "metadata": {},
   "outputs": [
    {
     "name": "stdout",
     "output_type": "stream",
     "text": [
      "120\n",
      "0 Predition accuracy for validation data is  1.0\n",
      "128\n",
      "1 Predition accuracy for validation data is  1.0\n",
      "96\n",
      "2 Predition accuracy for validation data is  1.0\n",
      "93\n",
      "3 Predition accuracy for validation data is  1.0\n",
      "97\n",
      "4 Predition accuracy for validation data is  1.0\n",
      "104\n",
      "5 Predition accuracy for validation data is  1.0\n",
      "80\n",
      "6 Predition accuracy for validation data is  1.0\n",
      "90\n",
      "7 Predition accuracy for validation data is  1.0\n",
      "128\n",
      "8 Predition accuracy for validation data is  1.0\n",
      "94\n",
      "9 Predition accuracy for validation data is  1.0\n",
      "97\n",
      "10 Predition accuracy for validation data is  1.0\n",
      "90\n",
      "11 Predition accuracy for validation data is  1.0\n",
      "89\n",
      "12 Predition accuracy for validation data is  1.0\n",
      "93\n",
      "13 Predition accuracy for validation data is  1.0\n",
      "89\n",
      "14 Predition accuracy for validation data is  1.0\n"
     ]
    },
    {
     "data": {
      "text/plain": [
       "[<matplotlib.lines.Line2D at 0x7f17f22e4128>]"
      ]
     },
     "execution_count": 53,
     "metadata": {},
     "output_type": "execute_result"
    },
    {
     "data": {
      "image/png": "[encoded data removed]",
      "text/plain": [
       "<Figure size 432x288 with 1 Axes>"
      ]
     },
     "metadata": {},
     "output_type": "display_data"
    }
   ],
   "source": [
    "import numpy as np\n",
    "import pandas as pd\n",
    "import matplotlib.pyplot as plt\n",
    "\n",
    "df = pd.read_csv(\"pa2_train.csv\");\n",
    "df.columns = [str(i) for i in range(0, df.shape[1])]\n",
    "df2 = pd.read_csv(\"pa2_valid.csv\");\n",
    "df2.columns = [str(i) for i in range(0, df.shape[1])]\n",
    "df[\"bias\"] = 1.0;\n",
    "df2[\"bias\"] = 1.0;\n",
    "df.sample(5)\n",
    "Y=df[\"0\"]\n",
    "Y = Y.apply(lambda x: 1 if x == 3 else -1)\n",
    "VY=df2[\"0\"]\n",
    "VY = VY.apply(lambda x: 1 if x == 3 else -1)\n",
    "y_hat = []\n",
    "train_df = df.drop([\"0\"], axis=1)\n",
    "valid_df = df2.drop([\"0\"], axis=1)\n",
    "(n, features) = train_df.shape\n",
    "\n",
    "(vn, vfeatures) = valid_df.shape\n",
    "\n",
    "W = [0 for x in range(0, features)]\n",
    "W = np.array(W)\n",
    "iters = 15; _iter = 0;\n",
    "\n",
    "training_error = []\n",
    "validation_error = []\n",
    "\n",
    "while _iter < iters:\n",
    "    error = 0;\n",
    "    v_error = 0;\n",
    "    for i in range(0, n):\n",
    "        x = train_df.iloc[i]\n",
    "        u = W.dot(x)\n",
    "        yi = Y.iloc[i]\n",
    "        if yi*u <= 0:\n",
    "            W = np.add(W,np.multiply(yi,x))\n",
    "            error+=1\n",
    "    training_error.append((1-(error/n)))\n",
    "    #print(_iter, \"Predition accuracy for training data is \", (1-(error/x.shape[0])))\n",
    "    for i in range(0, vn):\n",
    "        vx = valid_df.iloc[i]\n",
    "        vu = np.array([W]).dot(vx)\n",
    "        vyi = VY.iloc[i]\n",
    "        if vyi*vu <= 0:\n",
    "            v_error += 1;\n",
    "    validation_error.append((1-(v_error/vn)));\n",
    "    print(_iter, \"Predition accuracy for validation data is \", predict(W,vx,VY,v_error))\n",
    "    _iter+=1\n",
    "    \n",
    "\n",
    "    print(training_error)\n",
    "    print\n",
    "plt.plot([0,1,2,3,4,5,6,7,8,9,10,11,12,13,14], training_error)\n",
    "plt.plot([0,1,2,3,4,5,6,7,8,9,10,11,12,13,14], validation_error)"
   ]
  },
  {
   "cell_type": "code",
   "execution_count": null,
   "metadata": {},
   "outputs": [],
   "source": []
  },
  {
   "cell_type": "code",
   "execution_count": null,
   "metadata": {},
   "outputs": [],
   "source": []
  }
 ],
 "metadata": {
  "kernelspec": {
   "display_name": "Python 3",
   "language": "python",
   "name": "python3"
  },
  "language_info": {
   "codemirror_mode": {
    "name": "ipython",
    "version": 3
   },
   "file_extension": ".py",
   "mimetype": "text/x-python",
   "name": "python",
   "nbconvert_exporter": "python",
   "pygments_lexer": "ipython3",
   "version": "3.6.6"
  }
 },
 "nbformat": 4,
 "nbformat_minor": 2
}
