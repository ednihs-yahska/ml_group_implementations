{
 "cells": [
  {
   "cell_type": "code",
   "execution_count": 174,
   "metadata": {},
   "outputs": [],
   "source": [
    "import numpy as np\n",
    "import pandas as pd\n",
    "import matplotlib.pyplot as plt"
   ]
  },
  {
   "cell_type": "code",
   "execution_count": 175,
   "metadata": {},
   "outputs": [],
   "source": [
    "df = pd.read_csv('pa2_train.csv')\n",
    "df.columns = [str(i) for i in range(0,df.shape[1])]\n",
    "\n",
    "df2 = pd.read_csv('pa2_valid.csv')\n",
    "df.columns = [str(i) for i in range(0, df.shape[1])]\n",
    "\n",
    "df['bias'] = 1.0;\n",
    "df2['bias']  = 1.0;"
   ]
  },
  {
   "cell_type": "code",
   "execution_count": 176,
   "metadata": {},
   "outputs": [
    {
     "data": {
      "text/html": [
       "<div>\n",
       "<style scoped>\n",
       "    .dataframe tbody tr th:only-of-type {\n",
       "        vertical-align: middle;\n",
       "    }\n",
       "\n",
       "    .dataframe tbody tr th {\n",
       "        vertical-align: top;\n",
       "    }\n",
       "\n",
       "    .dataframe thead th {\n",
       "        text-align: right;\n",
       "    }\n",
       "</style>\n",
       "<table border=\"1\" class=\"dataframe\">\n",
       "  <thead>\n",
       "    <tr style=\"text-align: right;\">\n",
       "      <th></th>\n",
       "      <th>5</th>\n",
       "      <th>0.0</th>\n",
       "      <th>0.0.1</th>\n",
       "      <th>0.0.2</th>\n",
       "      <th>0.0.3</th>\n",
       "      <th>0.0.4</th>\n",
       "      <th>0.0.5</th>\n",
       "      <th>0.0.6</th>\n",
       "      <th>0.0.7</th>\n",
       "      <th>0.0.8</th>\n",
       "      <th>...</th>\n",
       "      <th>0.0.47</th>\n",
       "      <th>0.0.48</th>\n",
       "      <th>0.0.49</th>\n",
       "      <th>0.0.50</th>\n",
       "      <th>0.0.51</th>\n",
       "      <th>0.0.52</th>\n",
       "      <th>0.0.53</th>\n",
       "      <th>0.0.54</th>\n",
       "      <th>0.0.55</th>\n",
       "      <th>bias</th>\n",
       "    </tr>\n",
       "  </thead>\n",
       "  <tbody>\n",
       "    <tr>\n",
       "      <th>855</th>\n",
       "      <td>3</td>\n",
       "      <td>0.0</td>\n",
       "      <td>0.0</td>\n",
       "      <td>0.0</td>\n",
       "      <td>0.0</td>\n",
       "      <td>0.0</td>\n",
       "      <td>0.0</td>\n",
       "      <td>0.0</td>\n",
       "      <td>0.0</td>\n",
       "      <td>0.0</td>\n",
       "      <td>...</td>\n",
       "      <td>0.0</td>\n",
       "      <td>0.0</td>\n",
       "      <td>0.0</td>\n",
       "      <td>0.0</td>\n",
       "      <td>0.0</td>\n",
       "      <td>0.0</td>\n",
       "      <td>0.0</td>\n",
       "      <td>0.0</td>\n",
       "      <td>0.0</td>\n",
       "      <td>1.0</td>\n",
       "    </tr>\n",
       "    <tr>\n",
       "      <th>151</th>\n",
       "      <td>3</td>\n",
       "      <td>0.0</td>\n",
       "      <td>0.0</td>\n",
       "      <td>0.0</td>\n",
       "      <td>0.0</td>\n",
       "      <td>0.0</td>\n",
       "      <td>0.0</td>\n",
       "      <td>0.0</td>\n",
       "      <td>0.0</td>\n",
       "      <td>0.0</td>\n",
       "      <td>...</td>\n",
       "      <td>0.0</td>\n",
       "      <td>0.0</td>\n",
       "      <td>0.0</td>\n",
       "      <td>0.0</td>\n",
       "      <td>0.0</td>\n",
       "      <td>0.0</td>\n",
       "      <td>0.0</td>\n",
       "      <td>0.0</td>\n",
       "      <td>0.0</td>\n",
       "      <td>1.0</td>\n",
       "    </tr>\n",
       "    <tr>\n",
       "      <th>1382</th>\n",
       "      <td>5</td>\n",
       "      <td>0.0</td>\n",
       "      <td>0.0</td>\n",
       "      <td>0.0</td>\n",
       "      <td>0.0</td>\n",
       "      <td>0.0</td>\n",
       "      <td>0.0</td>\n",
       "      <td>0.0</td>\n",
       "      <td>0.0</td>\n",
       "      <td>0.0</td>\n",
       "      <td>...</td>\n",
       "      <td>0.0</td>\n",
       "      <td>0.0</td>\n",
       "      <td>0.0</td>\n",
       "      <td>0.0</td>\n",
       "      <td>0.0</td>\n",
       "      <td>0.0</td>\n",
       "      <td>0.0</td>\n",
       "      <td>0.0</td>\n",
       "      <td>0.0</td>\n",
       "      <td>1.0</td>\n",
       "    </tr>\n",
       "    <tr>\n",
       "      <th>999</th>\n",
       "      <td>5</td>\n",
       "      <td>0.0</td>\n",
       "      <td>0.0</td>\n",
       "      <td>0.0</td>\n",
       "      <td>0.0</td>\n",
       "      <td>0.0</td>\n",
       "      <td>0.0</td>\n",
       "      <td>0.0</td>\n",
       "      <td>0.0</td>\n",
       "      <td>0.0</td>\n",
       "      <td>...</td>\n",
       "      <td>0.0</td>\n",
       "      <td>0.0</td>\n",
       "      <td>0.0</td>\n",
       "      <td>0.0</td>\n",
       "      <td>0.0</td>\n",
       "      <td>0.0</td>\n",
       "      <td>0.0</td>\n",
       "      <td>0.0</td>\n",
       "      <td>0.0</td>\n",
       "      <td>1.0</td>\n",
       "    </tr>\n",
       "    <tr>\n",
       "      <th>79</th>\n",
       "      <td>5</td>\n",
       "      <td>0.0</td>\n",
       "      <td>0.0</td>\n",
       "      <td>0.0</td>\n",
       "      <td>0.0</td>\n",
       "      <td>0.0</td>\n",
       "      <td>0.0</td>\n",
       "      <td>0.0</td>\n",
       "      <td>0.0</td>\n",
       "      <td>0.0</td>\n",
       "      <td>...</td>\n",
       "      <td>0.0</td>\n",
       "      <td>0.0</td>\n",
       "      <td>0.0</td>\n",
       "      <td>0.0</td>\n",
       "      <td>0.0</td>\n",
       "      <td>0.0</td>\n",
       "      <td>0.0</td>\n",
       "      <td>0.0</td>\n",
       "      <td>0.0</td>\n",
       "      <td>1.0</td>\n",
       "    </tr>\n",
       "  </tbody>\n",
       "</table>\n",
       "<p>5 rows × 786 columns</p>\n",
       "</div>"
      ],
      "text/plain": [
       "      5  0.0  0.0.1  0.0.2  0.0.3  0.0.4  0.0.5  0.0.6  0.0.7  0.0.8  ...   \\\n",
       "855   3  0.0    0.0    0.0    0.0    0.0    0.0    0.0    0.0    0.0  ...    \n",
       "151   3  0.0    0.0    0.0    0.0    0.0    0.0    0.0    0.0    0.0  ...    \n",
       "1382  5  0.0    0.0    0.0    0.0    0.0    0.0    0.0    0.0    0.0  ...    \n",
       "999   5  0.0    0.0    0.0    0.0    0.0    0.0    0.0    0.0    0.0  ...    \n",
       "79    5  0.0    0.0    0.0    0.0    0.0    0.0    0.0    0.0    0.0  ...    \n",
       "\n",
       "      0.0.47  0.0.48  0.0.49  0.0.50  0.0.51  0.0.52  0.0.53  0.0.54  0.0.55  \\\n",
       "855      0.0     0.0     0.0     0.0     0.0     0.0     0.0     0.0     0.0   \n",
       "151      0.0     0.0     0.0     0.0     0.0     0.0     0.0     0.0     0.0   \n",
       "1382     0.0     0.0     0.0     0.0     0.0     0.0     0.0     0.0     0.0   \n",
       "999      0.0     0.0     0.0     0.0     0.0     0.0     0.0     0.0     0.0   \n",
       "79       0.0     0.0     0.0     0.0     0.0     0.0     0.0     0.0     0.0   \n",
       "\n",
       "      bias  \n",
       "855    1.0  \n",
       "151    1.0  \n",
       "1382   1.0  \n",
       "999    1.0  \n",
       "79     1.0  \n",
       "\n",
       "[5 rows x 786 columns]"
      ]
     },
     "execution_count": 176,
     "metadata": {},
     "output_type": "execute_result"
    }
   ],
   "source": [
    "df2.sample(5)"
   ]
  },
  {
   "cell_type": "code",
   "execution_count": 177,
   "metadata": {},
   "outputs": [],
   "source": [
    "#Renaming samples 3 = 1 and 5=1 on trainining data\n",
    "\n",
    "Y = df[\"0\"]\n",
    "Y =Y.apply(lambda x: 1 if x==3 else -1)"
   ]
  },
  {
   "cell_type": "code",
   "execution_count": 178,
   "metadata": {},
   "outputs": [],
   "source": [
    "#Renaming samples 3 = 1 and 5= -1 on trainining data\n",
    "val_y = df2[\"5\"]\n",
    "val_y = val_y.apply(lambda x: 1 if x==3 else -1)"
   ]
  },
  {
   "cell_type": "code",
   "execution_count": 179,
   "metadata": {},
   "outputs": [],
   "source": [
    "#dropping y original value\n",
    "\n",
    "train_df = df.drop([\"0\"], axis=1)\n",
    "valid_df = df2.drop([\"5\"], axis=1)"
   ]
  },
  {
   "cell_type": "code",
   "execution_count": 180,
   "metadata": {},
   "outputs": [
    {
     "data": {
      "text/plain": [
       "(1628, 785)"
      ]
     },
     "execution_count": 180,
     "metadata": {},
     "output_type": "execute_result"
    }
   ],
   "source": [
    "train_df.shape\n",
    "valid_df.shape"
   ]
  },
  {
   "cell_type": "code",
   "execution_count": 181,
   "metadata": {},
   "outputs": [],
   "source": [
    "(n, features) = train_df.shape\n",
    "(val_n, val_features) = valid_df.shape"
   ]
  },
  {
   "cell_type": "code",
   "execution_count": 182,
   "metadata": {},
   "outputs": [],
   "source": [
    "W = np.array(np.zeros(features))\n",
    "val_w = np.array(np.zeros(val_features))"
   ]
  },
  {
   "cell_type": "code",
   "execution_count": 183,
   "metadata": {},
   "outputs": [],
   "source": [
    "c = 0\n",
    "val_c =0\n",
    "w_hat  = np.zeros(features)\n",
    "val_w_hat = np.zeros(val_features)\n",
    "y_hat = np.zeros(features)\n",
    "val_y_hat = np.array(val_features)\n",
    "s = 0\n",
    "val_s = 0"
   ]
  },
  {
   "cell_type": "code",
   "execution_count": 184,
   "metadata": {},
   "outputs": [],
   "source": [
    "iters = 15; _iter = 0;"
   ]
  },
  {
   "cell_type": "code",
   "execution_count": 185,
   "metadata": {},
   "outputs": [
    {
     "data": {
      "text/plain": [
       "4887"
      ]
     },
     "execution_count": 185,
     "metadata": {},
     "output_type": "execute_result"
    }
   ],
   "source": [
    "Y.shape[0]"
   ]
  },
  {
   "cell_type": "code",
   "execution_count": 186,
   "metadata": {},
   "outputs": [],
   "source": [
    "training_accuracy = []\n",
    "validation_accuracy = []"
   ]
  },
  {
   "cell_type": "code",
   "execution_count": 187,
   "metadata": {},
   "outputs": [],
   "source": [
    "def predict_accuracy(x,y,w_hat):\n",
    "    c=0\n",
    "    for j in range (x.shape[0]):\n",
    "        y_hat[j] = np.sign(np.dot(w_hat, x[j])) \n",
    "        if(y_hat[j] == 0):\n",
    "            y_hat[j] = -1\n",
    "\n",
    "        if(y_hat[j] != y[j]):\n",
    "            c = c+1\n",
    "    accuracy= (1-(c/x.shape[0]))*100\n",
    "    return accuracy"
   ]
  },
  {
   "cell_type": "code",
   "execution_count": 188,
   "metadata": {},
   "outputs": [
    {
     "name": "stdout",
     "output_type": "stream",
     "text": [
      "Training accuracy [0.9821656050955414, 0.9668789808917198, 0.9668789808917198, 0.9859872611464968, 0.9859872611464968, 0.9847133757961783, 0.9859872611464968, 0.9821656050955414, 0.9847133757961783, 0.9859872611464968, 0.9821656050955414, 0.9859872611464968, 0.9859872611464968, 0.9859872611464968, 0.9859872611464968]\n",
      "validation accuracy [0.9719745222929936, 0.9630573248407643, 0.9694267515923567, 0.9630573248407643, 0.975796178343949, 0.9579617834394905, 0.9528662420382166, 0.9694267515923567, 0.9528662420382166, 0.9528662420382166, 0.9528662420382166, 0.9528662420382166, 0.9528662420382166, 0.9528662420382166, 0.9426751592356688]\n"
     ]
    }
   ],
   "source": [
    "while _iter < iters:\n",
    "    error = 0\n",
    "    for i in range(0, n):\n",
    "        x = train_df.iloc[i]\n",
    "        u = np.dot(x,W)\n",
    "        yi = Y.iloc[i]\n",
    "        \n",
    "        if yi*u <= 0:\n",
    "            if s+c >0:\n",
    "                w_hat  = np.add(np.multiply(s,w_hat), np.multiply(c,W))/ np.add(s, c)\n",
    "            s += c\n",
    "            W= np.add(W,np.multiply(yi,x))\n",
    "            c = 0\n",
    "        else:\n",
    "            c+=1\n",
    "            error+=1\n",
    "    training_accuracy.append(1-(c/x.shape[0]))\n",
    "    #print(_iter, \"Predition accuracy for training data is \", (1-(c/x.shape[0])))\n",
    "    \n",
    "    for i in range(0, val_n):\n",
    "        val_x = valid_df.iloc[i]\n",
    "        val_u = np.dot(val_x,val_w)\n",
    "        val_yi = val_y.iloc[i]\n",
    "        \n",
    "        if val_yi*val_u <= 0:\n",
    "            if val_s+val_c >0:\n",
    "                val_w_hat  = np.add(np.multiply(val_s,val_w_hat), np.multiply(val_c,val_w))/ np.add(val_s, val_c)\n",
    "            val_s += val_c\n",
    "            val_w= np.add(val_w,np.multiply(val_yi,val_x))\n",
    "            val_c = 0\n",
    "        else:\n",
    "            val_c+=1\n",
    "    validation_accuracy.append(1-(val_c/val_x.shape[0]))\n",
    "    \n",
    "    _iter+=1\n",
    "if c>0:\n",
    "    w_hat  = np.add(np.multiply(s,w_hat), np.multiply(c,W))/ np.add(s, c)\n",
    "if val_c>0:\n",
    "    val_w_hat  = np.add(np.multiply(val_s,val_w_hat), np.multiply(val_c,val_w))/ np.add(val_s, val_c)\n",
    "\n",
    "print(\"Training accuracy\",training_accuracy)\n",
    "print(\"validation accuracy\",validation_accuracy)"
   ]
  },
  {
   "cell_type": "code",
   "execution_count": 190,
   "metadata": {},
   "outputs": [
    {
     "data": {
      "text/plain": [
       "<matplotlib.legend.Legend at 0x11d50b550>"
      ]
     },
     "execution_count": 190,
     "metadata": {},
     "output_type": "execute_result"
    },
    {
     "data": {
      "image/png": "[encoded data removed]",
      "text/plain": [
       "<Figure size 432x288 with 1 Axes>"
      ]
     },
     "metadata": {
      "needs_background": "light"
     },
     "output_type": "display_data"
    }
   ],
   "source": [
    "t, = plt.plot([0,1,2,3,4,5,6,7,8,9,10,11,12,13,14], training_accuracy, label=\"train\")\n",
    "v, = plt.plot([0,1,2,3,4,5,6,7,8,9,10,11,12,13,14], validation_accuracy, label=\"validation\")\n",
    "plt.xlabel('Number of Iterations')\n",
    "plt.ylabel('Accuracy')\n",
    "plt.title('Average Perceptron')\n",
    "plt.legend(handles=[t,v], loc='best')"
   ]
  },
  {
   "cell_type": "code",
   "execution_count": null,
   "metadata": {},
   "outputs": [],
   "source": []
  }
 ],
 "metadata": {
  "kernelspec": {
   "display_name": "Python 3",
   "language": "python",
   "name": "python3"
  },
  "language_info": {
   "codemirror_mode": {
    "name": "ipython",
    "version": 3
   },
   "file_extension": ".py",
   "mimetype": "text/x-python",
   "name": "python",
   "nbconvert_exporter": "python",
   "pygments_lexer": "ipython3",
   "version": "3.7.0"
  }
 },
 "nbformat": 4,
 "nbformat_minor": 2
}
